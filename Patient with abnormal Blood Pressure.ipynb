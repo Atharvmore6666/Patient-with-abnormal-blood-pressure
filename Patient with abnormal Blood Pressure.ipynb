{
 "cells": [
  {
   "cell_type": "code",
   "execution_count": 11,
   "id": "39a5f0be",
   "metadata": {},
   "outputs": [],
   "source": [
    "import pandas as pd"
   ]
  },
  {
   "cell_type": "code",
   "execution_count": 12,
   "id": "487ebfb9",
   "metadata": {},
   "outputs": [],
   "source": [
    "df = pd.read_csv (r\"C:\\Users\\Dell\\OneDrive\\Desktop\\ML PROJECT\\Patient_with_abnormal_bloodpressure.csv\")"
   ]
  },
  {
   "cell_type": "code",
   "execution_count": 13,
   "id": "1d2267e4",
   "metadata": {},
   "outputs": [
    {
     "data": {
      "text/html": [
       "<div>\n",
       "<style scoped>\n",
       "    .dataframe tbody tr th:only-of-type {\n",
       "        vertical-align: middle;\n",
       "    }\n",
       "\n",
       "    .dataframe tbody tr th {\n",
       "        vertical-align: top;\n",
       "    }\n",
       "\n",
       "    .dataframe thead th {\n",
       "        text-align: right;\n",
       "    }\n",
       "</style>\n",
       "<table border=\"1\" class=\"dataframe\">\n",
       "  <thead>\n",
       "    <tr style=\"text-align: right;\">\n",
       "      <th></th>\n",
       "      <th>Patient_Number</th>\n",
       "      <th>Blood_Pressure_Abnormality</th>\n",
       "      <th>Level_of_Hemoglobin</th>\n",
       "      <th>Genetic_Pedigree_Coefficient</th>\n",
       "      <th>Age</th>\n",
       "      <th>BMI</th>\n",
       "      <th>Sex</th>\n",
       "      <th>Pregnancy</th>\n",
       "      <th>Smoking</th>\n",
       "      <th>Physical_activity</th>\n",
       "      <th>salt_content_in_the_diet</th>\n",
       "      <th>alcohol_consumption_per_day</th>\n",
       "      <th>Level_of_Stress</th>\n",
       "      <th>Chronic_kidney_disease</th>\n",
       "      <th>Adrenal_and_thyroid_disorders</th>\n",
       "    </tr>\n",
       "  </thead>\n",
       "  <tbody>\n",
       "    <tr>\n",
       "      <th>0</th>\n",
       "      <td>1</td>\n",
       "      <td>1</td>\n",
       "      <td>11.28</td>\n",
       "      <td>0.90</td>\n",
       "      <td>34</td>\n",
       "      <td>23</td>\n",
       "      <td>1</td>\n",
       "      <td>1.0</td>\n",
       "      <td>0</td>\n",
       "      <td>45961</td>\n",
       "      <td>48071</td>\n",
       "      <td>NaN</td>\n",
       "      <td>2</td>\n",
       "      <td>1</td>\n",
       "      <td>1</td>\n",
       "    </tr>\n",
       "    <tr>\n",
       "      <th>1</th>\n",
       "      <td>2</td>\n",
       "      <td>0</td>\n",
       "      <td>9.75</td>\n",
       "      <td>0.23</td>\n",
       "      <td>54</td>\n",
       "      <td>33</td>\n",
       "      <td>1</td>\n",
       "      <td>NaN</td>\n",
       "      <td>0</td>\n",
       "      <td>26106</td>\n",
       "      <td>25333</td>\n",
       "      <td>205.0</td>\n",
       "      <td>3</td>\n",
       "      <td>0</td>\n",
       "      <td>0</td>\n",
       "    </tr>\n",
       "    <tr>\n",
       "      <th>2</th>\n",
       "      <td>3</td>\n",
       "      <td>1</td>\n",
       "      <td>10.79</td>\n",
       "      <td>0.91</td>\n",
       "      <td>70</td>\n",
       "      <td>49</td>\n",
       "      <td>0</td>\n",
       "      <td>NaN</td>\n",
       "      <td>0</td>\n",
       "      <td>9995</td>\n",
       "      <td>29465</td>\n",
       "      <td>67.0</td>\n",
       "      <td>2</td>\n",
       "      <td>1</td>\n",
       "      <td>0</td>\n",
       "    </tr>\n",
       "    <tr>\n",
       "      <th>3</th>\n",
       "      <td>4</td>\n",
       "      <td>0</td>\n",
       "      <td>11.00</td>\n",
       "      <td>0.43</td>\n",
       "      <td>71</td>\n",
       "      <td>50</td>\n",
       "      <td>0</td>\n",
       "      <td>NaN</td>\n",
       "      <td>0</td>\n",
       "      <td>10635</td>\n",
       "      <td>7439</td>\n",
       "      <td>242.0</td>\n",
       "      <td>1</td>\n",
       "      <td>1</td>\n",
       "      <td>0</td>\n",
       "    </tr>\n",
       "    <tr>\n",
       "      <th>4</th>\n",
       "      <td>5</td>\n",
       "      <td>1</td>\n",
       "      <td>14.17</td>\n",
       "      <td>0.83</td>\n",
       "      <td>52</td>\n",
       "      <td>19</td>\n",
       "      <td>0</td>\n",
       "      <td>NaN</td>\n",
       "      <td>0</td>\n",
       "      <td>15619</td>\n",
       "      <td>49644</td>\n",
       "      <td>397.0</td>\n",
       "      <td>2</td>\n",
       "      <td>0</td>\n",
       "      <td>0</td>\n",
       "    </tr>\n",
       "  </tbody>\n",
       "</table>\n",
       "</div>"
      ],
      "text/plain": [
       "   Patient_Number  Blood_Pressure_Abnormality  Level_of_Hemoglobin  \\\n",
       "0               1                           1                11.28   \n",
       "1               2                           0                 9.75   \n",
       "2               3                           1                10.79   \n",
       "3               4                           0                11.00   \n",
       "4               5                           1                14.17   \n",
       "\n",
       "   Genetic_Pedigree_Coefficient  Age  BMI  Sex  Pregnancy  Smoking  \\\n",
       "0                          0.90   34   23    1        1.0        0   \n",
       "1                          0.23   54   33    1        NaN        0   \n",
       "2                          0.91   70   49    0        NaN        0   \n",
       "3                          0.43   71   50    0        NaN        0   \n",
       "4                          0.83   52   19    0        NaN        0   \n",
       "\n",
       "   Physical_activity  salt_content_in_the_diet  alcohol_consumption_per_day  \\\n",
       "0              45961                     48071                          NaN   \n",
       "1              26106                     25333                        205.0   \n",
       "2               9995                     29465                         67.0   \n",
       "3              10635                      7439                        242.0   \n",
       "4              15619                     49644                        397.0   \n",
       "\n",
       "   Level_of_Stress  Chronic_kidney_disease  Adrenal_and_thyroid_disorders  \n",
       "0                2                       1                              1  \n",
       "1                3                       0                              0  \n",
       "2                2                       1                              0  \n",
       "3                1                       1                              0  \n",
       "4                2                       0                              0  "
      ]
     },
     "execution_count": 13,
     "metadata": {},
     "output_type": "execute_result"
    }
   ],
   "source": [
    "df.head()"
   ]
  },
  {
   "cell_type": "code",
   "execution_count": 14,
   "id": "4ab8fdcd",
   "metadata": {},
   "outputs": [
    {
     "data": {
      "text/plain": [
       "(2000, 15)"
      ]
     },
     "execution_count": 14,
     "metadata": {},
     "output_type": "execute_result"
    }
   ],
   "source": [
    "df.shape"
   ]
  },
  {
   "cell_type": "code",
   "execution_count": 15,
   "id": "6a827021",
   "metadata": {},
   "outputs": [
    {
     "data": {
      "text/plain": [
       "Patient_Number                      0\n",
       "Blood_Pressure_Abnormality          0\n",
       "Level_of_Hemoglobin                 0\n",
       "Genetic_Pedigree_Coefficient       92\n",
       "Age                                 0\n",
       "BMI                                 0\n",
       "Sex                                 0\n",
       "Pregnancy                        1558\n",
       "Smoking                             0\n",
       "Physical_activity                   0\n",
       "salt_content_in_the_diet            0\n",
       "alcohol_consumption_per_day       242\n",
       "Level_of_Stress                     0\n",
       "Chronic_kidney_disease              0\n",
       "Adrenal_and_thyroid_disorders       0\n",
       "dtype: int64"
      ]
     },
     "execution_count": 15,
     "metadata": {},
     "output_type": "execute_result"
    }
   ],
   "source": [
    "df.isnull().sum()"
   ]
  },
  {
   "cell_type": "code",
   "execution_count": 16,
   "id": "b89f2900",
   "metadata": {},
   "outputs": [
    {
     "data": {
      "text/plain": [
       "Pregnancy    1558\n",
       "dtype: int64"
      ]
     },
     "execution_count": 16,
     "metadata": {},
     "output_type": "execute_result"
    }
   ],
   "source": [
    "df.isnull().sum()[df.isnull().sum()*100/df.shape[0]>40]"
   ]
  },
  {
   "cell_type": "code",
   "execution_count": 17,
   "id": "c5544e39",
   "metadata": {},
   "outputs": [],
   "source": [
    "df=df.drop(['Patient_Number','Pregnancy'],axis=1 )"
   ]
  },
  {
   "cell_type": "code",
   "execution_count": 18,
   "id": "a88ed4f6",
   "metadata": {},
   "outputs": [
    {
     "data": {
      "text/html": [
       "<div>\n",
       "<style scoped>\n",
       "    .dataframe tbody tr th:only-of-type {\n",
       "        vertical-align: middle;\n",
       "    }\n",
       "\n",
       "    .dataframe tbody tr th {\n",
       "        vertical-align: top;\n",
       "    }\n",
       "\n",
       "    .dataframe thead th {\n",
       "        text-align: right;\n",
       "    }\n",
       "</style>\n",
       "<table border=\"1\" class=\"dataframe\">\n",
       "  <thead>\n",
       "    <tr style=\"text-align: right;\">\n",
       "      <th></th>\n",
       "      <th>Blood_Pressure_Abnormality</th>\n",
       "      <th>Level_of_Hemoglobin</th>\n",
       "      <th>Genetic_Pedigree_Coefficient</th>\n",
       "      <th>Age</th>\n",
       "      <th>BMI</th>\n",
       "      <th>Sex</th>\n",
       "      <th>Smoking</th>\n",
       "      <th>Physical_activity</th>\n",
       "      <th>salt_content_in_the_diet</th>\n",
       "      <th>alcohol_consumption_per_day</th>\n",
       "      <th>Level_of_Stress</th>\n",
       "      <th>Chronic_kidney_disease</th>\n",
       "      <th>Adrenal_and_thyroid_disorders</th>\n",
       "    </tr>\n",
       "  </thead>\n",
       "  <tbody>\n",
       "    <tr>\n",
       "      <th>0</th>\n",
       "      <td>1</td>\n",
       "      <td>11.28</td>\n",
       "      <td>0.90</td>\n",
       "      <td>34</td>\n",
       "      <td>23</td>\n",
       "      <td>1</td>\n",
       "      <td>0</td>\n",
       "      <td>45961</td>\n",
       "      <td>48071</td>\n",
       "      <td>NaN</td>\n",
       "      <td>2</td>\n",
       "      <td>1</td>\n",
       "      <td>1</td>\n",
       "    </tr>\n",
       "    <tr>\n",
       "      <th>1</th>\n",
       "      <td>0</td>\n",
       "      <td>9.75</td>\n",
       "      <td>0.23</td>\n",
       "      <td>54</td>\n",
       "      <td>33</td>\n",
       "      <td>1</td>\n",
       "      <td>0</td>\n",
       "      <td>26106</td>\n",
       "      <td>25333</td>\n",
       "      <td>205.0</td>\n",
       "      <td>3</td>\n",
       "      <td>0</td>\n",
       "      <td>0</td>\n",
       "    </tr>\n",
       "    <tr>\n",
       "      <th>2</th>\n",
       "      <td>1</td>\n",
       "      <td>10.79</td>\n",
       "      <td>0.91</td>\n",
       "      <td>70</td>\n",
       "      <td>49</td>\n",
       "      <td>0</td>\n",
       "      <td>0</td>\n",
       "      <td>9995</td>\n",
       "      <td>29465</td>\n",
       "      <td>67.0</td>\n",
       "      <td>2</td>\n",
       "      <td>1</td>\n",
       "      <td>0</td>\n",
       "    </tr>\n",
       "    <tr>\n",
       "      <th>3</th>\n",
       "      <td>0</td>\n",
       "      <td>11.00</td>\n",
       "      <td>0.43</td>\n",
       "      <td>71</td>\n",
       "      <td>50</td>\n",
       "      <td>0</td>\n",
       "      <td>0</td>\n",
       "      <td>10635</td>\n",
       "      <td>7439</td>\n",
       "      <td>242.0</td>\n",
       "      <td>1</td>\n",
       "      <td>1</td>\n",
       "      <td>0</td>\n",
       "    </tr>\n",
       "    <tr>\n",
       "      <th>4</th>\n",
       "      <td>1</td>\n",
       "      <td>14.17</td>\n",
       "      <td>0.83</td>\n",
       "      <td>52</td>\n",
       "      <td>19</td>\n",
       "      <td>0</td>\n",
       "      <td>0</td>\n",
       "      <td>15619</td>\n",
       "      <td>49644</td>\n",
       "      <td>397.0</td>\n",
       "      <td>2</td>\n",
       "      <td>0</td>\n",
       "      <td>0</td>\n",
       "    </tr>\n",
       "  </tbody>\n",
       "</table>\n",
       "</div>"
      ],
      "text/plain": [
       "   Blood_Pressure_Abnormality  Level_of_Hemoglobin  \\\n",
       "0                           1                11.28   \n",
       "1                           0                 9.75   \n",
       "2                           1                10.79   \n",
       "3                           0                11.00   \n",
       "4                           1                14.17   \n",
       "\n",
       "   Genetic_Pedigree_Coefficient  Age  BMI  Sex  Smoking  Physical_activity  \\\n",
       "0                          0.90   34   23    1        0              45961   \n",
       "1                          0.23   54   33    1        0              26106   \n",
       "2                          0.91   70   49    0        0               9995   \n",
       "3                          0.43   71   50    0        0              10635   \n",
       "4                          0.83   52   19    0        0              15619   \n",
       "\n",
       "   salt_content_in_the_diet  alcohol_consumption_per_day  Level_of_Stress  \\\n",
       "0                     48071                          NaN                2   \n",
       "1                     25333                        205.0                3   \n",
       "2                     29465                         67.0                2   \n",
       "3                      7439                        242.0                1   \n",
       "4                     49644                        397.0                2   \n",
       "\n",
       "   Chronic_kidney_disease  Adrenal_and_thyroid_disorders  \n",
       "0                       1                              1  \n",
       "1                       0                              0  \n",
       "2                       1                              0  \n",
       "3                       1                              0  \n",
       "4                       0                              0  "
      ]
     },
     "execution_count": 18,
     "metadata": {},
     "output_type": "execute_result"
    }
   ],
   "source": [
    "df.head()"
   ]
  },
  {
   "cell_type": "code",
   "execution_count": 19,
   "id": "b7413a4c",
   "metadata": {},
   "outputs": [
    {
     "data": {
      "text/plain": [
       "0.86    32\n",
       "0.13    30\n",
       "0.63    28\n",
       "0.56    27\n",
       "0.17    27\n",
       "        ..\n",
       "0.78    11\n",
       "0.91    11\n",
       "0.16    10\n",
       "0.15     9\n",
       "0.65     9\n",
       "Name: Genetic_Pedigree_Coefficient, Length: 101, dtype: int64"
      ]
     },
     "execution_count": 19,
     "metadata": {},
     "output_type": "execute_result"
    }
   ],
   "source": [
    "df.Genetic_Pedigree_Coefficient.value_counts()"
   ]
  },
  {
   "cell_type": "code",
   "execution_count": 20,
   "id": "843bcad0",
   "metadata": {},
   "outputs": [],
   "source": [
    "df['Genetic_Pedigree_Coefficient']=df['Genetic_Pedigree_Coefficient'].fillna(df['Genetic_Pedigree_Coefficient'].mean())"
   ]
  },
  {
   "cell_type": "code",
   "execution_count": 21,
   "id": "3cfdd746",
   "metadata": {},
   "outputs": [
    {
     "data": {
      "text/plain": [
       "253.0    11\n",
       "401.0    10\n",
       "302.0    10\n",
       "144.0    10\n",
       "485.0     9\n",
       "         ..\n",
       "21.0      1\n",
       "406.0     1\n",
       "346.0     1\n",
       "244.0     1\n",
       "326.0     1\n",
       "Name: alcohol_consumption_per_day, Length: 488, dtype: int64"
      ]
     },
     "execution_count": 21,
     "metadata": {},
     "output_type": "execute_result"
    }
   ],
   "source": [
    "df.alcohol_consumption_per_day.value_counts()"
   ]
  },
  {
   "cell_type": "code",
   "execution_count": 22,
   "id": "7c4c793b",
   "metadata": {},
   "outputs": [],
   "source": [
    "df['alcohol_consumption_per_day']=df['alcohol_consumption_per_day'].fillna(df['alcohol_consumption_per_day'].mean())"
   ]
  },
  {
   "cell_type": "code",
   "execution_count": 23,
   "id": "e0607b64",
   "metadata": {},
   "outputs": [
    {
     "name": "stdout",
     "output_type": "stream",
     "text": [
      "<class 'pandas.core.frame.DataFrame'>\n",
      "RangeIndex: 2000 entries, 0 to 1999\n",
      "Data columns (total 13 columns):\n",
      " #   Column                         Non-Null Count  Dtype  \n",
      "---  ------                         --------------  -----  \n",
      " 0   Blood_Pressure_Abnormality     2000 non-null   int64  \n",
      " 1   Level_of_Hemoglobin            2000 non-null   float64\n",
      " 2   Genetic_Pedigree_Coefficient   2000 non-null   float64\n",
      " 3   Age                            2000 non-null   int64  \n",
      " 4   BMI                            2000 non-null   int64  \n",
      " 5   Sex                            2000 non-null   int64  \n",
      " 6   Smoking                        2000 non-null   int64  \n",
      " 7   Physical_activity              2000 non-null   int64  \n",
      " 8   salt_content_in_the_diet       2000 non-null   int64  \n",
      " 9   alcohol_consumption_per_day    2000 non-null   float64\n",
      " 10  Level_of_Stress                2000 non-null   int64  \n",
      " 11  Chronic_kidney_disease         2000 non-null   int64  \n",
      " 12  Adrenal_and_thyroid_disorders  2000 non-null   int64  \n",
      "dtypes: float64(3), int64(10)\n",
      "memory usage: 203.3 KB\n"
     ]
    }
   ],
   "source": [
    "df.info()"
   ]
  },
  {
   "cell_type": "code",
   "execution_count": 24,
   "id": "9b33c2f0",
   "metadata": {},
   "outputs": [],
   "source": [
    "from sklearn.model_selection import train_test_split"
   ]
  },
  {
   "cell_type": "code",
   "execution_count": 25,
   "id": "20366e16",
   "metadata": {},
   "outputs": [],
   "source": [
    "df_train , df_test = train_test_split(df, test_size=0.2)"
   ]
  },
  {
   "cell_type": "code",
   "execution_count": 26,
   "id": "ac123b39",
   "metadata": {},
   "outputs": [],
   "source": [
    "df_train_x  = df_train.iloc[: , 1::]\n",
    "df_train_y  =df_train.iloc[: , 0]\n",
    "df_test_x  = df_test.iloc[: , 1::]\n",
    "df_test_y  =df_test.iloc[: , 0]"
   ]
  },
  {
   "cell_type": "code",
   "execution_count": 27,
   "id": "d451fce7",
   "metadata": {},
   "outputs": [
    {
     "data": {
      "text/html": [
       "<div>\n",
       "<style scoped>\n",
       "    .dataframe tbody tr th:only-of-type {\n",
       "        vertical-align: middle;\n",
       "    }\n",
       "\n",
       "    .dataframe tbody tr th {\n",
       "        vertical-align: top;\n",
       "    }\n",
       "\n",
       "    .dataframe thead th {\n",
       "        text-align: right;\n",
       "    }\n",
       "</style>\n",
       "<table border=\"1\" class=\"dataframe\">\n",
       "  <thead>\n",
       "    <tr style=\"text-align: right;\">\n",
       "      <th></th>\n",
       "      <th>Level_of_Hemoglobin</th>\n",
       "      <th>Genetic_Pedigree_Coefficient</th>\n",
       "      <th>Age</th>\n",
       "      <th>BMI</th>\n",
       "      <th>Sex</th>\n",
       "      <th>Smoking</th>\n",
       "      <th>Physical_activity</th>\n",
       "      <th>salt_content_in_the_diet</th>\n",
       "      <th>alcohol_consumption_per_day</th>\n",
       "      <th>Level_of_Stress</th>\n",
       "      <th>Chronic_kidney_disease</th>\n",
       "      <th>Adrenal_and_thyroid_disorders</th>\n",
       "    </tr>\n",
       "  </thead>\n",
       "  <tbody>\n",
       "    <tr>\n",
       "      <th>942</th>\n",
       "      <td>12.07</td>\n",
       "      <td>0.24</td>\n",
       "      <td>52</td>\n",
       "      <td>36</td>\n",
       "      <td>0</td>\n",
       "      <td>1</td>\n",
       "      <td>1333</td>\n",
       "      <td>23332</td>\n",
       "      <td>297.000000</td>\n",
       "      <td>3</td>\n",
       "      <td>1</td>\n",
       "      <td>0</td>\n",
       "    </tr>\n",
       "    <tr>\n",
       "      <th>1658</th>\n",
       "      <td>10.09</td>\n",
       "      <td>0.32</td>\n",
       "      <td>50</td>\n",
       "      <td>13</td>\n",
       "      <td>0</td>\n",
       "      <td>1</td>\n",
       "      <td>45332</td>\n",
       "      <td>39857</td>\n",
       "      <td>438.000000</td>\n",
       "      <td>3</td>\n",
       "      <td>0</td>\n",
       "      <td>0</td>\n",
       "    </tr>\n",
       "    <tr>\n",
       "      <th>1184</th>\n",
       "      <td>9.15</td>\n",
       "      <td>0.94</td>\n",
       "      <td>24</td>\n",
       "      <td>22</td>\n",
       "      <td>1</td>\n",
       "      <td>0</td>\n",
       "      <td>30474</td>\n",
       "      <td>8327</td>\n",
       "      <td>251.008532</td>\n",
       "      <td>1</td>\n",
       "      <td>1</td>\n",
       "      <td>1</td>\n",
       "    </tr>\n",
       "    <tr>\n",
       "      <th>1491</th>\n",
       "      <td>11.01</td>\n",
       "      <td>0.61</td>\n",
       "      <td>46</td>\n",
       "      <td>41</td>\n",
       "      <td>0</td>\n",
       "      <td>0</td>\n",
       "      <td>19359</td>\n",
       "      <td>42865</td>\n",
       "      <td>449.000000</td>\n",
       "      <td>2</td>\n",
       "      <td>1</td>\n",
       "      <td>0</td>\n",
       "    </tr>\n",
       "    <tr>\n",
       "      <th>1226</th>\n",
       "      <td>11.34</td>\n",
       "      <td>0.85</td>\n",
       "      <td>35</td>\n",
       "      <td>24</td>\n",
       "      <td>0</td>\n",
       "      <td>0</td>\n",
       "      <td>16205</td>\n",
       "      <td>41680</td>\n",
       "      <td>71.000000</td>\n",
       "      <td>3</td>\n",
       "      <td>1</td>\n",
       "      <td>0</td>\n",
       "    </tr>\n",
       "    <tr>\n",
       "      <th>...</th>\n",
       "      <td>...</td>\n",
       "      <td>...</td>\n",
       "      <td>...</td>\n",
       "      <td>...</td>\n",
       "      <td>...</td>\n",
       "      <td>...</td>\n",
       "      <td>...</td>\n",
       "      <td>...</td>\n",
       "      <td>...</td>\n",
       "      <td>...</td>\n",
       "      <td>...</td>\n",
       "      <td>...</td>\n",
       "    </tr>\n",
       "    <tr>\n",
       "      <th>1919</th>\n",
       "      <td>13.80</td>\n",
       "      <td>0.28</td>\n",
       "      <td>44</td>\n",
       "      <td>19</td>\n",
       "      <td>1</td>\n",
       "      <td>0</td>\n",
       "      <td>11859</td>\n",
       "      <td>44408</td>\n",
       "      <td>217.000000</td>\n",
       "      <td>1</td>\n",
       "      <td>0</td>\n",
       "      <td>0</td>\n",
       "    </tr>\n",
       "    <tr>\n",
       "      <th>46</th>\n",
       "      <td>11.16</td>\n",
       "      <td>0.43</td>\n",
       "      <td>40</td>\n",
       "      <td>11</td>\n",
       "      <td>1</td>\n",
       "      <td>1</td>\n",
       "      <td>48799</td>\n",
       "      <td>20332</td>\n",
       "      <td>176.000000</td>\n",
       "      <td>3</td>\n",
       "      <td>1</td>\n",
       "      <td>0</td>\n",
       "    </tr>\n",
       "    <tr>\n",
       "      <th>402</th>\n",
       "      <td>16.53</td>\n",
       "      <td>0.39</td>\n",
       "      <td>25</td>\n",
       "      <td>26</td>\n",
       "      <td>0</td>\n",
       "      <td>1</td>\n",
       "      <td>46204</td>\n",
       "      <td>45173</td>\n",
       "      <td>101.000000</td>\n",
       "      <td>1</td>\n",
       "      <td>0</td>\n",
       "      <td>1</td>\n",
       "    </tr>\n",
       "    <tr>\n",
       "      <th>981</th>\n",
       "      <td>13.44</td>\n",
       "      <td>0.06</td>\n",
       "      <td>55</td>\n",
       "      <td>30</td>\n",
       "      <td>0</td>\n",
       "      <td>0</td>\n",
       "      <td>39139</td>\n",
       "      <td>8760</td>\n",
       "      <td>444.000000</td>\n",
       "      <td>1</td>\n",
       "      <td>1</td>\n",
       "      <td>1</td>\n",
       "    </tr>\n",
       "    <tr>\n",
       "      <th>1400</th>\n",
       "      <td>14.75</td>\n",
       "      <td>0.57</td>\n",
       "      <td>18</td>\n",
       "      <td>42</td>\n",
       "      <td>0</td>\n",
       "      <td>1</td>\n",
       "      <td>34104</td>\n",
       "      <td>681</td>\n",
       "      <td>251.008532</td>\n",
       "      <td>3</td>\n",
       "      <td>1</td>\n",
       "      <td>0</td>\n",
       "    </tr>\n",
       "  </tbody>\n",
       "</table>\n",
       "<p>1600 rows × 12 columns</p>\n",
       "</div>"
      ],
      "text/plain": [
       "      Level_of_Hemoglobin  Genetic_Pedigree_Coefficient  Age  BMI  Sex  \\\n",
       "942                 12.07                          0.24   52   36    0   \n",
       "1658                10.09                          0.32   50   13    0   \n",
       "1184                 9.15                          0.94   24   22    1   \n",
       "1491                11.01                          0.61   46   41    0   \n",
       "1226                11.34                          0.85   35   24    0   \n",
       "...                   ...                           ...  ...  ...  ...   \n",
       "1919                13.80                          0.28   44   19    1   \n",
       "46                  11.16                          0.43   40   11    1   \n",
       "402                 16.53                          0.39   25   26    0   \n",
       "981                 13.44                          0.06   55   30    0   \n",
       "1400                14.75                          0.57   18   42    0   \n",
       "\n",
       "      Smoking  Physical_activity  salt_content_in_the_diet  \\\n",
       "942         1               1333                     23332   \n",
       "1658        1              45332                     39857   \n",
       "1184        0              30474                      8327   \n",
       "1491        0              19359                     42865   \n",
       "1226        0              16205                     41680   \n",
       "...       ...                ...                       ...   \n",
       "1919        0              11859                     44408   \n",
       "46          1              48799                     20332   \n",
       "402         1              46204                     45173   \n",
       "981         0              39139                      8760   \n",
       "1400        1              34104                       681   \n",
       "\n",
       "      alcohol_consumption_per_day  Level_of_Stress  Chronic_kidney_disease  \\\n",
       "942                    297.000000                3                       1   \n",
       "1658                   438.000000                3                       0   \n",
       "1184                   251.008532                1                       1   \n",
       "1491                   449.000000                2                       1   \n",
       "1226                    71.000000                3                       1   \n",
       "...                           ...              ...                     ...   \n",
       "1919                   217.000000                1                       0   \n",
       "46                     176.000000                3                       1   \n",
       "402                    101.000000                1                       0   \n",
       "981                    444.000000                1                       1   \n",
       "1400                   251.008532                3                       1   \n",
       "\n",
       "      Adrenal_and_thyroid_disorders  \n",
       "942                               0  \n",
       "1658                              0  \n",
       "1184                              1  \n",
       "1491                              0  \n",
       "1226                              0  \n",
       "...                             ...  \n",
       "1919                              0  \n",
       "46                                0  \n",
       "402                               1  \n",
       "981                               1  \n",
       "1400                              0  \n",
       "\n",
       "[1600 rows x 12 columns]"
      ]
     },
     "execution_count": 27,
     "metadata": {},
     "output_type": "execute_result"
    }
   ],
   "source": [
    "df_train_x"
   ]
  },
  {
   "cell_type": "code",
   "execution_count": 28,
   "id": "2e2deebe",
   "metadata": {},
   "outputs": [
    {
     "data": {
      "text/plain": [
       "942     0\n",
       "1658    0\n",
       "1184    1\n",
       "1491    0\n",
       "1226    0\n",
       "       ..\n",
       "1919    0\n",
       "46      0\n",
       "402     1\n",
       "981     1\n",
       "1400    1\n",
       "Name: Blood_Pressure_Abnormality, Length: 1600, dtype: int64"
      ]
     },
     "execution_count": 28,
     "metadata": {},
     "output_type": "execute_result"
    }
   ],
   "source": [
    "df_train_y"
   ]
  },
  {
   "cell_type": "code",
   "execution_count": 29,
   "id": "95d70cdf",
   "metadata": {},
   "outputs": [],
   "source": [
    "from sklearn.linear_model import LogisticRegression"
   ]
  },
  {
   "cell_type": "code",
   "execution_count": 30,
   "id": "09b80fde",
   "metadata": {},
   "outputs": [],
   "source": [
    "log_df = LogisticRegression()"
   ]
  },
  {
   "cell_type": "code",
   "execution_count": 31,
   "id": "c8c9f43c",
   "metadata": {},
   "outputs": [
    {
     "name": "stderr",
     "output_type": "stream",
     "text": [
      "C:\\Users\\Dell\\anaconda3\\Lib\\site-packages\\sklearn\\linear_model\\_logistic.py:458: ConvergenceWarning: lbfgs failed to converge (status=1):\n",
      "STOP: TOTAL NO. of ITERATIONS REACHED LIMIT.\n",
      "\n",
      "Increase the number of iterations (max_iter) or scale the data as shown in:\n",
      "    https://scikit-learn.org/stable/modules/preprocessing.html\n",
      "Please also refer to the documentation for alternative solver options:\n",
      "    https://scikit-learn.org/stable/modules/linear_model.html#logistic-regression\n",
      "  n_iter_i = _check_optimize_result(\n"
     ]
    },
    {
     "data": {
      "text/html": [
       "<style>#sk-container-id-1 {color: black;background-color: white;}#sk-container-id-1 pre{padding: 0;}#sk-container-id-1 div.sk-toggleable {background-color: white;}#sk-container-id-1 label.sk-toggleable__label {cursor: pointer;display: block;width: 100%;margin-bottom: 0;padding: 0.3em;box-sizing: border-box;text-align: center;}#sk-container-id-1 label.sk-toggleable__label-arrow:before {content: \"▸\";float: left;margin-right: 0.25em;color: #696969;}#sk-container-id-1 label.sk-toggleable__label-arrow:hover:before {color: black;}#sk-container-id-1 div.sk-estimator:hover label.sk-toggleable__label-arrow:before {color: black;}#sk-container-id-1 div.sk-toggleable__content {max-height: 0;max-width: 0;overflow: hidden;text-align: left;background-color: #f0f8ff;}#sk-container-id-1 div.sk-toggleable__content pre {margin: 0.2em;color: black;border-radius: 0.25em;background-color: #f0f8ff;}#sk-container-id-1 input.sk-toggleable__control:checked~div.sk-toggleable__content {max-height: 200px;max-width: 100%;overflow: auto;}#sk-container-id-1 input.sk-toggleable__control:checked~label.sk-toggleable__label-arrow:before {content: \"▾\";}#sk-container-id-1 div.sk-estimator input.sk-toggleable__control:checked~label.sk-toggleable__label {background-color: #d4ebff;}#sk-container-id-1 div.sk-label input.sk-toggleable__control:checked~label.sk-toggleable__label {background-color: #d4ebff;}#sk-container-id-1 input.sk-hidden--visually {border: 0;clip: rect(1px 1px 1px 1px);clip: rect(1px, 1px, 1px, 1px);height: 1px;margin: -1px;overflow: hidden;padding: 0;position: absolute;width: 1px;}#sk-container-id-1 div.sk-estimator {font-family: monospace;background-color: #f0f8ff;border: 1px dotted black;border-radius: 0.25em;box-sizing: border-box;margin-bottom: 0.5em;}#sk-container-id-1 div.sk-estimator:hover {background-color: #d4ebff;}#sk-container-id-1 div.sk-parallel-item::after {content: \"\";width: 100%;border-bottom: 1px solid gray;flex-grow: 1;}#sk-container-id-1 div.sk-label:hover label.sk-toggleable__label {background-color: #d4ebff;}#sk-container-id-1 div.sk-serial::before {content: \"\";position: absolute;border-left: 1px solid gray;box-sizing: border-box;top: 0;bottom: 0;left: 50%;z-index: 0;}#sk-container-id-1 div.sk-serial {display: flex;flex-direction: column;align-items: center;background-color: white;padding-right: 0.2em;padding-left: 0.2em;position: relative;}#sk-container-id-1 div.sk-item {position: relative;z-index: 1;}#sk-container-id-1 div.sk-parallel {display: flex;align-items: stretch;justify-content: center;background-color: white;position: relative;}#sk-container-id-1 div.sk-item::before, #sk-container-id-1 div.sk-parallel-item::before {content: \"\";position: absolute;border-left: 1px solid gray;box-sizing: border-box;top: 0;bottom: 0;left: 50%;z-index: -1;}#sk-container-id-1 div.sk-parallel-item {display: flex;flex-direction: column;z-index: 1;position: relative;background-color: white;}#sk-container-id-1 div.sk-parallel-item:first-child::after {align-self: flex-end;width: 50%;}#sk-container-id-1 div.sk-parallel-item:last-child::after {align-self: flex-start;width: 50%;}#sk-container-id-1 div.sk-parallel-item:only-child::after {width: 0;}#sk-container-id-1 div.sk-dashed-wrapped {border: 1px dashed gray;margin: 0 0.4em 0.5em 0.4em;box-sizing: border-box;padding-bottom: 0.4em;background-color: white;}#sk-container-id-1 div.sk-label label {font-family: monospace;font-weight: bold;display: inline-block;line-height: 1.2em;}#sk-container-id-1 div.sk-label-container {text-align: center;}#sk-container-id-1 div.sk-container {/* jupyter's `normalize.less` sets `[hidden] { display: none; }` but bootstrap.min.css set `[hidden] { display: none !important; }` so we also need the `!important` here to be able to override the default hidden behavior on the sphinx rendered scikit-learn.org. See: https://github.com/scikit-learn/scikit-learn/issues/21755 */display: inline-block !important;position: relative;}#sk-container-id-1 div.sk-text-repr-fallback {display: none;}</style><div id=\"sk-container-id-1\" class=\"sk-top-container\"><div class=\"sk-text-repr-fallback\"><pre>LogisticRegression()</pre><b>In a Jupyter environment, please rerun this cell to show the HTML representation or trust the notebook. <br />On GitHub, the HTML representation is unable to render, please try loading this page with nbviewer.org.</b></div><div class=\"sk-container\" hidden><div class=\"sk-item\"><div class=\"sk-estimator sk-toggleable\"><input class=\"sk-toggleable__control sk-hidden--visually\" id=\"sk-estimator-id-1\" type=\"checkbox\" checked><label for=\"sk-estimator-id-1\" class=\"sk-toggleable__label sk-toggleable__label-arrow\">LogisticRegression</label><div class=\"sk-toggleable__content\"><pre>LogisticRegression()</pre></div></div></div></div></div>"
      ],
      "text/plain": [
       "LogisticRegression()"
      ]
     },
     "execution_count": 31,
     "metadata": {},
     "output_type": "execute_result"
    }
   ],
   "source": [
    "log_df.fit(df_train_x , df_train_y)"
   ]
  },
  {
   "cell_type": "code",
   "execution_count": 32,
   "id": "1a2c4a32",
   "metadata": {},
   "outputs": [
    {
     "data": {
      "text/plain": [
       "array([1, 0, 1, 1, 1, 1, 0, 1, 1, 0, 0, 0, 1, 0, 0, 0, 0, 1, 1, 0, 0, 1,\n",
       "       1, 0, 0, 0, 1, 0, 0, 0, 1, 1, 1, 0, 1, 0, 1, 0, 1, 1, 1, 0, 0, 0,\n",
       "       1, 0, 1, 0, 0, 1, 0, 0, 1, 0, 0, 1, 1, 1, 1, 1, 1, 1, 0, 1, 1, 1,\n",
       "       1, 0, 1, 0, 0, 1, 1, 0, 0, 1, 1, 1, 1, 0, 1, 1, 1, 0, 0, 1, 0, 0,\n",
       "       0, 1, 0, 1, 0, 0, 1, 1, 1, 1, 1, 1, 1, 0, 0, 0, 1, 0, 0, 1, 1, 1,\n",
       "       0, 0, 1, 0, 0, 1, 1, 1, 1, 0, 0, 1, 0, 0, 0, 0, 1, 1, 1, 1, 0, 1,\n",
       "       1, 1, 1, 0, 1, 1, 1, 0, 0, 0, 1, 0, 0, 1, 1, 1, 1, 1, 1, 1, 1, 1,\n",
       "       0, 1, 0, 0, 0, 0, 0, 0, 1, 0, 1, 0, 1, 0, 0, 0, 1, 1, 0, 1, 0, 0,\n",
       "       0, 0, 1, 1, 0, 1, 1, 1, 1, 1, 0, 1, 1, 0, 0, 0, 0, 1, 0, 0, 1, 0,\n",
       "       0, 0, 0, 0, 0, 0, 0, 0, 0, 1, 1, 0, 0, 1, 0, 0, 1, 0, 0, 1, 1, 1,\n",
       "       0, 0, 0, 0, 1, 0, 0, 1, 1, 0, 1, 1, 1, 1, 0, 1, 0, 0, 1, 0, 0, 1,\n",
       "       0, 0, 1, 1, 1, 0, 1, 1, 1, 1, 0, 0, 1, 1, 0, 1, 1, 1, 1, 1, 1, 1,\n",
       "       1, 0, 1, 1, 0, 0, 0, 0, 0, 0, 1, 0, 0, 0, 0, 1, 1, 1, 0, 1, 0, 0,\n",
       "       0, 0, 1, 1, 0, 1, 1, 0, 0, 1, 1, 0, 1, 0, 0, 1, 1, 0, 0, 1, 0, 1,\n",
       "       0, 0, 1, 1, 1, 1, 1, 1, 0, 1, 1, 1, 1, 0, 0, 1, 0, 1, 1, 0, 1, 1,\n",
       "       1, 1, 1, 0, 1, 0, 1, 0, 1, 1, 0, 1, 1, 1, 0, 1, 0, 0, 0, 1, 0, 0,\n",
       "       0, 0, 1, 0, 0, 0, 1, 1, 1, 0, 0, 1, 0, 1, 1, 0, 0, 1, 0, 1, 0, 0,\n",
       "       1, 1, 1, 0, 1, 0, 0, 0, 1, 0, 1, 0, 0, 1, 1, 0, 1, 0, 1, 0, 0, 1,\n",
       "       1, 1, 0, 1], dtype=int64)"
      ]
     },
     "execution_count": 32,
     "metadata": {},
     "output_type": "execute_result"
    }
   ],
   "source": [
    "pred_bp = log_df.predict(df_test_x)\n",
    "pred_bp\n"
   ]
  },
  {
   "cell_type": "code",
   "execution_count": 33,
   "id": "7d3c8eb8",
   "metadata": {},
   "outputs": [],
   "source": [
    "from sklearn.metrics import confusion_matrix"
   ]
  },
  {
   "cell_type": "code",
   "execution_count": 34,
   "id": "85936110",
   "metadata": {},
   "outputs": [
    {
     "data": {
      "text/plain": [
       "array([[ 94,  95],\n",
       "       [ 99, 112]], dtype=int64)"
      ]
     },
     "execution_count": 34,
     "metadata": {},
     "output_type": "execute_result"
    }
   ],
   "source": [
    "bp_tab = confusion_matrix(df_test_y , pred_bp)\n",
    "bp_tab"
   ]
  },
  {
   "cell_type": "code",
   "execution_count": 35,
   "id": "c18be9e6",
   "metadata": {},
   "outputs": [],
   "source": [
    "from sklearn.metrics import accuracy_score"
   ]
  },
  {
   "cell_type": "code",
   "execution_count": 36,
   "id": "ca496b6f",
   "metadata": {},
   "outputs": [
    {
     "data": {
      "text/plain": [
       "51.5"
      ]
     },
     "execution_count": 36,
     "metadata": {},
     "output_type": "execute_result"
    }
   ],
   "source": [
    "accuracy_score(df_test_y , pred_bp)*100"
   ]
  },
  {
   "cell_type": "code",
   "execution_count": 37,
   "id": "0a536fdc",
   "metadata": {},
   "outputs": [],
   "source": [
    "from sklearn.metrics import recall_score"
   ]
  },
  {
   "cell_type": "code",
   "execution_count": 38,
   "id": "9d49e983",
   "metadata": {},
   "outputs": [
    {
     "data": {
      "text/plain": [
       "0.5308056872037915"
      ]
     },
     "execution_count": 38,
     "metadata": {},
     "output_type": "execute_result"
    }
   ],
   "source": [
    "recall_score(df_test_y , pred_bp)"
   ]
  },
  {
   "cell_type": "code",
   "execution_count": 39,
   "id": "f6a38e24",
   "metadata": {},
   "outputs": [],
   "source": [
    "from sklearn.metrics import precision_score"
   ]
  },
  {
   "cell_type": "code",
   "execution_count": 40,
   "id": "3c6f11b9",
   "metadata": {},
   "outputs": [
    {
     "data": {
      "text/plain": [
       "0.5410628019323671"
      ]
     },
     "execution_count": 40,
     "metadata": {},
     "output_type": "execute_result"
    }
   ],
   "source": [
    "precision_score(df_test_y , pred_bp)"
   ]
  },
  {
   "cell_type": "code",
   "execution_count": 41,
   "id": "6b00d427",
   "metadata": {},
   "outputs": [],
   "source": [
    "from sklearn.metrics import f1_score"
   ]
  },
  {
   "cell_type": "code",
   "execution_count": 42,
   "id": "012e275c",
   "metadata": {},
   "outputs": [
    {
     "data": {
      "text/plain": [
       "0.5358851674641149"
      ]
     },
     "execution_count": 42,
     "metadata": {},
     "output_type": "execute_result"
    }
   ],
   "source": [
    "f1_score(df_test_y , pred_bp)"
   ]
  },
  {
   "cell_type": "code",
   "execution_count": 43,
   "id": "17689748",
   "metadata": {},
   "outputs": [],
   "source": [
    "from sklearn.metrics import roc_auc_score\n",
    "from sklearn.metrics import roc_curve"
   ]
  },
  {
   "cell_type": "code",
   "execution_count": 44,
   "id": "d155acac",
   "metadata": {},
   "outputs": [
    {
     "data": {
      "text/plain": [
       "0.5140800922791444"
      ]
     },
     "execution_count": 44,
     "metadata": {},
     "output_type": "execute_result"
    }
   ],
   "source": [
    "roc_auc_score(df_test_y , pred_bp)"
   ]
  },
  {
   "cell_type": "code",
   "execution_count": 45,
   "id": "98ba4472",
   "metadata": {},
   "outputs": [
    {
     "data": {
      "text/plain": [
       "array([[0.39101261, 0.60898739],\n",
       "       [0.58122418, 0.41877582],\n",
       "       [0.32946952, 0.67053048],\n",
       "       [0.44975913, 0.55024087],\n",
       "       [0.40338722, 0.59661278],\n",
       "       [0.43972826, 0.56027174],\n",
       "       [0.52920154, 0.47079846],\n",
       "       [0.39991   , 0.60009   ],\n",
       "       [0.4565077 , 0.5434923 ],\n",
       "       [0.51210945, 0.48789055],\n",
       "       [0.65716437, 0.34283563],\n",
       "       [0.62355079, 0.37644921],\n",
       "       [0.48544125, 0.51455875],\n",
       "       [0.57124896, 0.42875104],\n",
       "       [0.60548809, 0.39451191],\n",
       "       [0.60715792, 0.39284208],\n",
       "       [0.68192055, 0.31807945],\n",
       "       [0.4505995 , 0.5494005 ],\n",
       "       [0.34127269, 0.65872731],\n",
       "       [0.54044011, 0.45955989],\n",
       "       [0.55630049, 0.44369951],\n",
       "       [0.41798648, 0.58201352],\n",
       "       [0.43534363, 0.56465637],\n",
       "       [0.5933022 , 0.4066978 ],\n",
       "       [0.53651809, 0.46348191],\n",
       "       [0.53416204, 0.46583796],\n",
       "       [0.31224375, 0.68775625],\n",
       "       [0.62907848, 0.37092152],\n",
       "       [0.54043499, 0.45956501],\n",
       "       [0.54022484, 0.45977516],\n",
       "       [0.26515158, 0.73484842],\n",
       "       [0.3060314 , 0.6939686 ],\n",
       "       [0.39506804, 0.60493196],\n",
       "       [0.58741682, 0.41258318],\n",
       "       [0.34147802, 0.65852198],\n",
       "       [0.66797487, 0.33202513],\n",
       "       [0.41913474, 0.58086526],\n",
       "       [0.59426611, 0.40573389],\n",
       "       [0.36534968, 0.63465032],\n",
       "       [0.48778181, 0.51221819],\n",
       "       [0.48701911, 0.51298089],\n",
       "       [0.59986705, 0.40013295],\n",
       "       [0.57745693, 0.42254307],\n",
       "       [0.61740471, 0.38259529],\n",
       "       [0.4428674 , 0.5571326 ],\n",
       "       [0.5052606 , 0.4947394 ],\n",
       "       [0.40353366, 0.59646634],\n",
       "       [0.61429948, 0.38570052],\n",
       "       [0.60483897, 0.39516103],\n",
       "       [0.31570184, 0.68429816],\n",
       "       [0.57454534, 0.42545466],\n",
       "       [0.61241333, 0.38758667],\n",
       "       [0.41547213, 0.58452787],\n",
       "       [0.53752301, 0.46247699],\n",
       "       [0.51462766, 0.48537234],\n",
       "       [0.37696903, 0.62303097],\n",
       "       [0.47523749, 0.52476251],\n",
       "       [0.45733696, 0.54266304],\n",
       "       [0.44401884, 0.55598116],\n",
       "       [0.28709255, 0.71290745],\n",
       "       [0.3956376 , 0.6043624 ],\n",
       "       [0.3756905 , 0.6243095 ],\n",
       "       [0.54699771, 0.45300229],\n",
       "       [0.41978162, 0.58021838],\n",
       "       [0.4077464 , 0.5922536 ],\n",
       "       [0.25309128, 0.74690872],\n",
       "       [0.45325878, 0.54674122],\n",
       "       [0.53656247, 0.46343753],\n",
       "       [0.46678811, 0.53321189],\n",
       "       [0.52147822, 0.47852178],\n",
       "       [0.51259649, 0.48740351],\n",
       "       [0.48881965, 0.51118035],\n",
       "       [0.44062564, 0.55937436],\n",
       "       [0.65183795, 0.34816205],\n",
       "       [0.64289821, 0.35710179],\n",
       "       [0.47198245, 0.52801755],\n",
       "       [0.47965977, 0.52034023],\n",
       "       [0.48351267, 0.51648733],\n",
       "       [0.43158492, 0.56841508],\n",
       "       [0.56474223, 0.43525777],\n",
       "       [0.38044844, 0.61955156],\n",
       "       [0.47879233, 0.52120767],\n",
       "       [0.3744891 , 0.6255109 ],\n",
       "       [0.50680191, 0.49319809],\n",
       "       [0.58659204, 0.41340796],\n",
       "       [0.42078212, 0.57921788],\n",
       "       [0.51982717, 0.48017283],\n",
       "       [0.51902854, 0.48097146],\n",
       "       [0.68349104, 0.31650896],\n",
       "       [0.47543554, 0.52456446],\n",
       "       [0.58598591, 0.41401409],\n",
       "       [0.4928012 , 0.5071988 ],\n",
       "       [0.5301513 , 0.4698487 ],\n",
       "       [0.53096837, 0.46903163],\n",
       "       [0.49199805, 0.50800195],\n",
       "       [0.45298834, 0.54701166],\n",
       "       [0.39539108, 0.60460892],\n",
       "       [0.48206657, 0.51793343],\n",
       "       [0.47511801, 0.52488199],\n",
       "       [0.48584437, 0.51415563],\n",
       "       [0.36242687, 0.63757313],\n",
       "       [0.50967629, 0.49032371],\n",
       "       [0.66329889, 0.33670111],\n",
       "       [0.60194073, 0.39805927],\n",
       "       [0.42591285, 0.57408715],\n",
       "       [0.51086633, 0.48913367],\n",
       "       [0.58371176, 0.41628824],\n",
       "       [0.49140428, 0.50859572],\n",
       "       [0.49487151, 0.50512849],\n",
       "       [0.47508837, 0.52491163],\n",
       "       [0.60855648, 0.39144352],\n",
       "       [0.52694264, 0.47305736],\n",
       "       [0.45358889, 0.54641111],\n",
       "       [0.5417662 , 0.4582338 ],\n",
       "       [0.53292973, 0.46707027],\n",
       "       [0.35847536, 0.64152464],\n",
       "       [0.39074004, 0.60925996],\n",
       "       [0.39437141, 0.60562859],\n",
       "       [0.46750456, 0.53249544],\n",
       "       [0.50405197, 0.49594803],\n",
       "       [0.61463403, 0.38536597],\n",
       "       [0.48197071, 0.51802929],\n",
       "       [0.60965588, 0.39034412],\n",
       "       [0.55165406, 0.44834594],\n",
       "       [0.6768196 , 0.3231804 ],\n",
       "       [0.63103589, 0.36896411],\n",
       "       [0.40522383, 0.59477617],\n",
       "       [0.40810804, 0.59189196],\n",
       "       [0.47186944, 0.52813056],\n",
       "       [0.45780324, 0.54219676],\n",
       "       [0.55737892, 0.44262108],\n",
       "       [0.42005454, 0.57994546],\n",
       "       [0.36069721, 0.63930279],\n",
       "       [0.49428554, 0.50571446],\n",
       "       [0.38240089, 0.61759911],\n",
       "       [0.56515893, 0.43484107],\n",
       "       [0.46443722, 0.53556278],\n",
       "       [0.38424169, 0.61575831],\n",
       "       [0.41374403, 0.58625597],\n",
       "       [0.58298801, 0.41701199],\n",
       "       [0.53378992, 0.46621008],\n",
       "       [0.53702321, 0.46297679],\n",
       "       [0.4682398 , 0.5317602 ],\n",
       "       [0.53621337, 0.46378663],\n",
       "       [0.57778374, 0.42221626],\n",
       "       [0.47376407, 0.52623593],\n",
       "       [0.36885295, 0.63114705],\n",
       "       [0.48844856, 0.51155144],\n",
       "       [0.46688799, 0.53311201],\n",
       "       [0.30901072, 0.69098928],\n",
       "       [0.42860253, 0.57139747],\n",
       "       [0.36577464, 0.63422536],\n",
       "       [0.36677423, 0.63322577],\n",
       "       [0.37980384, 0.62019616],\n",
       "       [0.58937487, 0.41062513],\n",
       "       [0.41781756, 0.58218244],\n",
       "       [0.57560555, 0.42439445],\n",
       "       [0.50284007, 0.49715993],\n",
       "       [0.55648447, 0.44351553],\n",
       "       [0.65997205, 0.34002795],\n",
       "       [0.60391601, 0.39608399],\n",
       "       [0.52306811, 0.47693189],\n",
       "       [0.48978241, 0.51021759],\n",
       "       [0.5058184 , 0.4941816 ],\n",
       "       [0.45787271, 0.54212729],\n",
       "       [0.52324635, 0.47675365],\n",
       "       [0.41853494, 0.58146506],\n",
       "       [0.59325486, 0.40674514],\n",
       "       [0.50585812, 0.49414188],\n",
       "       [0.64610012, 0.35389988],\n",
       "       [0.40417409, 0.59582591],\n",
       "       [0.34470095, 0.65529905],\n",
       "       [0.52021895, 0.47978105],\n",
       "       [0.39089967, 0.60910033],\n",
       "       [0.583071  , 0.416929  ],\n",
       "       [0.62857679, 0.37142321],\n",
       "       [0.51362224, 0.48637776],\n",
       "       [0.61013229, 0.38986771],\n",
       "       [0.25785455, 0.74214545],\n",
       "       [0.29387315, 0.70612685],\n",
       "       [0.58037534, 0.41962466],\n",
       "       [0.48553101, 0.51446899],\n",
       "       [0.49021378, 0.50978622],\n",
       "       [0.25754347, 0.74245653],\n",
       "       [0.38246765, 0.61753235],\n",
       "       [0.43748999, 0.56251001],\n",
       "       [0.52850227, 0.47149773],\n",
       "       [0.49891803, 0.50108197],\n",
       "       [0.39926326, 0.60073674],\n",
       "       [0.70142915, 0.29857085],\n",
       "       [0.6220689 , 0.3779311 ],\n",
       "       [0.64728411, 0.35271589],\n",
       "       [0.62276813, 0.37723187],\n",
       "       [0.29663596, 0.70336404],\n",
       "       [0.50471956, 0.49528044],\n",
       "       [0.55045526, 0.44954474],\n",
       "       [0.33442902, 0.66557098],\n",
       "       [0.53924249, 0.46075751],\n",
       "       [0.57694647, 0.42305353],\n",
       "       [0.55162775, 0.44837225],\n",
       "       [0.58000361, 0.41999639],\n",
       "       [0.56615315, 0.43384685],\n",
       "       [0.52745795, 0.47254205],\n",
       "       [0.58771932, 0.41228068],\n",
       "       [0.66861107, 0.33138893],\n",
       "       [0.58339868, 0.41660132],\n",
       "       [0.55065702, 0.44934298],\n",
       "       [0.45230788, 0.54769212],\n",
       "       [0.36247842, 0.63752158],\n",
       "       [0.50235075, 0.49764925],\n",
       "       [0.67483008, 0.32516992],\n",
       "       [0.43730695, 0.56269305],\n",
       "       [0.51753579, 0.48246421],\n",
       "       [0.62707405, 0.37292595],\n",
       "       [0.49064797, 0.50935203],\n",
       "       [0.60376281, 0.39623719],\n",
       "       [0.64024907, 0.35975093],\n",
       "       [0.49123561, 0.50876439],\n",
       "       [0.44906646, 0.55093354],\n",
       "       [0.30908202, 0.69091798],\n",
       "       [0.5112539 , 0.4887461 ],\n",
       "       [0.61476792, 0.38523208],\n",
       "       [0.63811123, 0.36188877],\n",
       "       [0.59417897, 0.40582103],\n",
       "       [0.39671475, 0.60328525],\n",
       "       [0.60643804, 0.39356196],\n",
       "       [0.58613055, 0.41386945],\n",
       "       [0.44868117, 0.55131883],\n",
       "       [0.39473142, 0.60526858],\n",
       "       [0.6127368 , 0.3872632 ],\n",
       "       [0.3645929 , 0.6354071 ],\n",
       "       [0.42007304, 0.57992696],\n",
       "       [0.46472701, 0.53527299],\n",
       "       [0.49785383, 0.50214617],\n",
       "       [0.59020518, 0.40979482],\n",
       "       [0.34779434, 0.65220566],\n",
       "       [0.55471132, 0.44528868],\n",
       "       [0.63977548, 0.36022452],\n",
       "       [0.38852781, 0.61147219],\n",
       "       [0.56601167, 0.43398833],\n",
       "       [0.60312999, 0.39687001],\n",
       "       [0.44953035, 0.55046965],\n",
       "       [0.55426866, 0.44573134],\n",
       "       [0.52974917, 0.47025083],\n",
       "       [0.35079202, 0.64920798],\n",
       "       [0.37062713, 0.62937287],\n",
       "       [0.37284454, 0.62715546],\n",
       "       [0.56798938, 0.43201062],\n",
       "       [0.43323949, 0.56676051],\n",
       "       [0.30801936, 0.69198064],\n",
       "       [0.4673901 , 0.5326099 ],\n",
       "       [0.37164812, 0.62835188],\n",
       "       [0.59914855, 0.40085145],\n",
       "       [0.58362119, 0.41637881],\n",
       "       [0.40606351, 0.59393649],\n",
       "       [0.37620004, 0.62379996],\n",
       "       [0.50889863, 0.49110137],\n",
       "       [0.35996959, 0.64003041],\n",
       "       [0.45464992, 0.54535008],\n",
       "       [0.48109188, 0.51890812],\n",
       "       [0.42740767, 0.57259233],\n",
       "       [0.47867228, 0.52132772],\n",
       "       [0.3860415 , 0.6139585 ],\n",
       "       [0.47340323, 0.52659677],\n",
       "       [0.47950343, 0.52049657],\n",
       "       [0.51330745, 0.48669255],\n",
       "       [0.34105278, 0.65894722],\n",
       "       [0.33194456, 0.66805544],\n",
       "       [0.67910153, 0.32089847],\n",
       "       [0.63278682, 0.36721318],\n",
       "       [0.50097517, 0.49902483],\n",
       "       [0.59918397, 0.40081603],\n",
       "       [0.52394696, 0.47605304],\n",
       "       [0.62755792, 0.37244208],\n",
       "       [0.35914586, 0.64085414],\n",
       "       [0.58094708, 0.41905292],\n",
       "       [0.64440393, 0.35559607],\n",
       "       [0.66420492, 0.33579508],\n",
       "       [0.61930697, 0.38069303],\n",
       "       [0.46997607, 0.53002393],\n",
       "       [0.43768285, 0.56231715],\n",
       "       [0.41547493, 0.58452507],\n",
       "       [0.58542859, 0.41457141],\n",
       "       [0.46728514, 0.53271486],\n",
       "       [0.53731229, 0.46268771],\n",
       "       [0.59818002, 0.40181998],\n",
       "       [0.60920692, 0.39079308],\n",
       "       [0.52712982, 0.47287018],\n",
       "       [0.3931264 , 0.6068736 ],\n",
       "       [0.43389049, 0.56610951],\n",
       "       [0.63422371, 0.36577629],\n",
       "       [0.31950975, 0.68049025],\n",
       "       [0.33816248, 0.66183752],\n",
       "       [0.58191224, 0.41808776],\n",
       "       [0.56669064, 0.43330936],\n",
       "       [0.32748353, 0.67251647],\n",
       "       [0.49309389, 0.50690611],\n",
       "       [0.62092839, 0.37907161],\n",
       "       [0.4970863 , 0.5029137 ],\n",
       "       [0.52808295, 0.47191705],\n",
       "       [0.55910784, 0.44089216],\n",
       "       [0.45072197, 0.54927803],\n",
       "       [0.40302355, 0.59697645],\n",
       "       [0.63757833, 0.36242167],\n",
       "       [0.65206973, 0.34793027],\n",
       "       [0.44928647, 0.55071353],\n",
       "       [0.60490756, 0.39509244],\n",
       "       [0.40215433, 0.59784567],\n",
       "       [0.59050495, 0.40949505],\n",
       "       [0.65636375, 0.34363625],\n",
       "       [0.30775153, 0.69224847],\n",
       "       [0.45042796, 0.54957204],\n",
       "       [0.42840542, 0.57159458],\n",
       "       [0.43746919, 0.56253081],\n",
       "       [0.43836968, 0.56163032],\n",
       "       [0.44673707, 0.55326293],\n",
       "       [0.50721447, 0.49278553],\n",
       "       [0.34482109, 0.65517891],\n",
       "       [0.46969888, 0.53030112],\n",
       "       [0.2907396 , 0.7092604 ],\n",
       "       [0.326228  , 0.673772  ],\n",
       "       [0.58134013, 0.41865987],\n",
       "       [0.6051351 , 0.3948649 ],\n",
       "       [0.41495514, 0.58504486],\n",
       "       [0.61656713, 0.38343287],\n",
       "       [0.34205712, 0.65794288],\n",
       "       [0.44116009, 0.55883991],\n",
       "       [0.51967727, 0.48032273],\n",
       "       [0.43362077, 0.56637923],\n",
       "       [0.40914492, 0.59085508],\n",
       "       [0.49949142, 0.50050858],\n",
       "       [0.49999624, 0.50000376],\n",
       "       [0.42342855, 0.57657145],\n",
       "       [0.54882533, 0.45117467],\n",
       "       [0.47673894, 0.52326106],\n",
       "       [0.71635695, 0.28364305],\n",
       "       [0.36094826, 0.63905174],\n",
       "       [0.53324957, 0.46675043],\n",
       "       [0.43955513, 0.56044487],\n",
       "       [0.48020517, 0.51979483],\n",
       "       [0.56153135, 0.43846865],\n",
       "       [0.4585305 , 0.5414695 ],\n",
       "       [0.47193444, 0.52806556],\n",
       "       [0.46343361, 0.53656639],\n",
       "       [0.64891117, 0.35108883],\n",
       "       [0.30342725, 0.69657275],\n",
       "       [0.52037616, 0.47962384],\n",
       "       [0.67584705, 0.32415295],\n",
       "       [0.50044062, 0.49955938],\n",
       "       [0.2951482 , 0.7048518 ],\n",
       "       [0.5564921 , 0.4435079 ],\n",
       "       [0.54836593, 0.45163407],\n",
       "       [0.60883157, 0.39116843],\n",
       "       [0.60325561, 0.39674439],\n",
       "       [0.42572869, 0.57427131],\n",
       "       [0.52350705, 0.47649295],\n",
       "       [0.65478567, 0.34521433],\n",
       "       [0.67173105, 0.32826895],\n",
       "       [0.33167807, 0.66832193],\n",
       "       [0.41893838, 0.58106162],\n",
       "       [0.49064076, 0.50935924],\n",
       "       [0.63997963, 0.36002037],\n",
       "       [0.65224734, 0.34775266],\n",
       "       [0.41683412, 0.58316588],\n",
       "       [0.5739417 , 0.4260583 ],\n",
       "       [0.45380477, 0.54619523],\n",
       "       [0.46941363, 0.53058637],\n",
       "       [0.59294044, 0.40705956],\n",
       "       [0.50475698, 0.49524302],\n",
       "       [0.38484109, 0.61515891],\n",
       "       [0.54916224, 0.45083776],\n",
       "       [0.45558958, 0.54441042],\n",
       "       [0.67056541, 0.32943459],\n",
       "       [0.54273327, 0.45726673],\n",
       "       [0.35813271, 0.64186729],\n",
       "       [0.40836624, 0.59163376],\n",
       "       [0.49663682, 0.50336318],\n",
       "       [0.61932412, 0.38067588],\n",
       "       [0.49507572, 0.50492428],\n",
       "       [0.70105207, 0.29894793],\n",
       "       [0.52263142, 0.47736858],\n",
       "       [0.60819196, 0.39180804],\n",
       "       [0.3758532 , 0.6241468 ],\n",
       "       [0.59437943, 0.40562057],\n",
       "       [0.45548889, 0.54451111],\n",
       "       [0.50790505, 0.49209495],\n",
       "       [0.5896599 , 0.4103401 ],\n",
       "       [0.30799239, 0.69200761],\n",
       "       [0.40535424, 0.59464576],\n",
       "       [0.52884674, 0.47115326],\n",
       "       [0.45912395, 0.54087605],\n",
       "       [0.66759845, 0.33240155],\n",
       "       [0.43363698, 0.56636302],\n",
       "       [0.53695041, 0.46304959],\n",
       "       [0.65687631, 0.34312369],\n",
       "       [0.34257812, 0.65742188],\n",
       "       [0.49456318, 0.50543682],\n",
       "       [0.40497537, 0.59502463],\n",
       "       [0.67036937, 0.32963063],\n",
       "       [0.3752161 , 0.6247839 ]])"
      ]
     },
     "execution_count": 45,
     "metadata": {},
     "output_type": "execute_result"
    }
   ],
   "source": [
    "pred_prob = log_df.predict_proba(df_test_x)\n",
    "pred_prob"
   ]
  },
  {
   "cell_type": "code",
   "execution_count": 46,
   "id": "92235626",
   "metadata": {},
   "outputs": [
    {
     "data": {
      "text/plain": [
       "array([0.60898739, 0.41877582, 0.67053048, 0.55024087, 0.59661278,\n",
       "       0.56027174, 0.47079846, 0.60009   , 0.5434923 , 0.48789055,\n",
       "       0.34283563, 0.37644921, 0.51455875, 0.42875104, 0.39451191,\n",
       "       0.39284208, 0.31807945, 0.5494005 , 0.65872731, 0.45955989,\n",
       "       0.44369951, 0.58201352, 0.56465637, 0.4066978 , 0.46348191,\n",
       "       0.46583796, 0.68775625, 0.37092152, 0.45956501, 0.45977516,\n",
       "       0.73484842, 0.6939686 , 0.60493196, 0.41258318, 0.65852198,\n",
       "       0.33202513, 0.58086526, 0.40573389, 0.63465032, 0.51221819,\n",
       "       0.51298089, 0.40013295, 0.42254307, 0.38259529, 0.5571326 ,\n",
       "       0.4947394 , 0.59646634, 0.38570052, 0.39516103, 0.68429816,\n",
       "       0.42545466, 0.38758667, 0.58452787, 0.46247699, 0.48537234,\n",
       "       0.62303097, 0.52476251, 0.54266304, 0.55598116, 0.71290745,\n",
       "       0.6043624 , 0.6243095 , 0.45300229, 0.58021838, 0.5922536 ,\n",
       "       0.74690872, 0.54674122, 0.46343753, 0.53321189, 0.47852178,\n",
       "       0.48740351, 0.51118035, 0.55937436, 0.34816205, 0.35710179,\n",
       "       0.52801755, 0.52034023, 0.51648733, 0.56841508, 0.43525777,\n",
       "       0.61955156, 0.52120767, 0.6255109 , 0.49319809, 0.41340796,\n",
       "       0.57921788, 0.48017283, 0.48097146, 0.31650896, 0.52456446,\n",
       "       0.41401409, 0.5071988 , 0.4698487 , 0.46903163, 0.50800195,\n",
       "       0.54701166, 0.60460892, 0.51793343, 0.52488199, 0.51415563,\n",
       "       0.63757313, 0.49032371, 0.33670111, 0.39805927, 0.57408715,\n",
       "       0.48913367, 0.41628824, 0.50859572, 0.50512849, 0.52491163,\n",
       "       0.39144352, 0.47305736, 0.54641111, 0.4582338 , 0.46707027,\n",
       "       0.64152464, 0.60925996, 0.60562859, 0.53249544, 0.49594803,\n",
       "       0.38536597, 0.51802929, 0.39034412, 0.44834594, 0.3231804 ,\n",
       "       0.36896411, 0.59477617, 0.59189196, 0.52813056, 0.54219676,\n",
       "       0.44262108, 0.57994546, 0.63930279, 0.50571446, 0.61759911,\n",
       "       0.43484107, 0.53556278, 0.61575831, 0.58625597, 0.41701199,\n",
       "       0.46621008, 0.46297679, 0.5317602 , 0.46378663, 0.42221626,\n",
       "       0.52623593, 0.63114705, 0.51155144, 0.53311201, 0.69098928,\n",
       "       0.57139747, 0.63422536, 0.63322577, 0.62019616, 0.41062513,\n",
       "       0.58218244, 0.42439445, 0.49715993, 0.44351553, 0.34002795,\n",
       "       0.39608399, 0.47693189, 0.51021759, 0.4941816 , 0.54212729,\n",
       "       0.47675365, 0.58146506, 0.40674514, 0.49414188, 0.35389988,\n",
       "       0.59582591, 0.65529905, 0.47978105, 0.60910033, 0.416929  ,\n",
       "       0.37142321, 0.48637776, 0.38986771, 0.74214545, 0.70612685,\n",
       "       0.41962466, 0.51446899, 0.50978622, 0.74245653, 0.61753235,\n",
       "       0.56251001, 0.47149773, 0.50108197, 0.60073674, 0.29857085,\n",
       "       0.3779311 , 0.35271589, 0.37723187, 0.70336404, 0.49528044,\n",
       "       0.44954474, 0.66557098, 0.46075751, 0.42305353, 0.44837225,\n",
       "       0.41999639, 0.43384685, 0.47254205, 0.41228068, 0.33138893,\n",
       "       0.41660132, 0.44934298, 0.54769212, 0.63752158, 0.49764925,\n",
       "       0.32516992, 0.56269305, 0.48246421, 0.37292595, 0.50935203,\n",
       "       0.39623719, 0.35975093, 0.50876439, 0.55093354, 0.69091798,\n",
       "       0.4887461 , 0.38523208, 0.36188877, 0.40582103, 0.60328525,\n",
       "       0.39356196, 0.41386945, 0.55131883, 0.60526858, 0.3872632 ,\n",
       "       0.6354071 , 0.57992696, 0.53527299, 0.50214617, 0.40979482,\n",
       "       0.65220566, 0.44528868, 0.36022452, 0.61147219, 0.43398833,\n",
       "       0.39687001, 0.55046965, 0.44573134, 0.47025083, 0.64920798,\n",
       "       0.62937287, 0.62715546, 0.43201062, 0.56676051, 0.69198064,\n",
       "       0.5326099 , 0.62835188, 0.40085145, 0.41637881, 0.59393649,\n",
       "       0.62379996, 0.49110137, 0.64003041, 0.54535008, 0.51890812,\n",
       "       0.57259233, 0.52132772, 0.6139585 , 0.52659677, 0.52049657,\n",
       "       0.48669255, 0.65894722, 0.66805544, 0.32089847, 0.36721318,\n",
       "       0.49902483, 0.40081603, 0.47605304, 0.37244208, 0.64085414,\n",
       "       0.41905292, 0.35559607, 0.33579508, 0.38069303, 0.53002393,\n",
       "       0.56231715, 0.58452507, 0.41457141, 0.53271486, 0.46268771,\n",
       "       0.40181998, 0.39079308, 0.47287018, 0.6068736 , 0.56610951,\n",
       "       0.36577629, 0.68049025, 0.66183752, 0.41808776, 0.43330936,\n",
       "       0.67251647, 0.50690611, 0.37907161, 0.5029137 , 0.47191705,\n",
       "       0.44089216, 0.54927803, 0.59697645, 0.36242167, 0.34793027,\n",
       "       0.55071353, 0.39509244, 0.59784567, 0.40949505, 0.34363625,\n",
       "       0.69224847, 0.54957204, 0.57159458, 0.56253081, 0.56163032,\n",
       "       0.55326293, 0.49278553, 0.65517891, 0.53030112, 0.7092604 ,\n",
       "       0.673772  , 0.41865987, 0.3948649 , 0.58504486, 0.38343287,\n",
       "       0.65794288, 0.55883991, 0.48032273, 0.56637923, 0.59085508,\n",
       "       0.50050858, 0.50000376, 0.57657145, 0.45117467, 0.52326106,\n",
       "       0.28364305, 0.63905174, 0.46675043, 0.56044487, 0.51979483,\n",
       "       0.43846865, 0.5414695 , 0.52806556, 0.53656639, 0.35108883,\n",
       "       0.69657275, 0.47962384, 0.32415295, 0.49955938, 0.7048518 ,\n",
       "       0.4435079 , 0.45163407, 0.39116843, 0.39674439, 0.57427131,\n",
       "       0.47649295, 0.34521433, 0.32826895, 0.66832193, 0.58106162,\n",
       "       0.50935924, 0.36002037, 0.34775266, 0.58316588, 0.4260583 ,\n",
       "       0.54619523, 0.53058637, 0.40705956, 0.49524302, 0.61515891,\n",
       "       0.45083776, 0.54441042, 0.32943459, 0.45726673, 0.64186729,\n",
       "       0.59163376, 0.50336318, 0.38067588, 0.50492428, 0.29894793,\n",
       "       0.47736858, 0.39180804, 0.6241468 , 0.40562057, 0.54451111,\n",
       "       0.49209495, 0.4103401 , 0.69200761, 0.59464576, 0.47115326,\n",
       "       0.54087605, 0.33240155, 0.56636302, 0.46304959, 0.34312369,\n",
       "       0.65742188, 0.50543682, 0.59502463, 0.32963063, 0.6247839 ])"
      ]
     },
     "execution_count": 46,
     "metadata": {},
     "output_type": "execute_result"
    }
   ],
   "source": [
    "pred_prob[: , 1]"
   ]
  },
  {
   "cell_type": "code",
   "execution_count": 47,
   "id": "b0f7bbeb",
   "metadata": {},
   "outputs": [],
   "source": [
    "fpr ,tpr , ther = roc_curve(df_test_y ,pred_prob[: , 1])"
   ]
  },
  {
   "cell_type": "code",
   "execution_count": 48,
   "id": "ff41afc6",
   "metadata": {},
   "outputs": [],
   "source": [
    "import matplotlib.pyplot as plt"
   ]
  },
  {
   "cell_type": "code",
   "execution_count": 49,
   "id": "0d617030",
   "metadata": {},
   "outputs": [
    {
     "data": {
      "text/plain": [
       "Text(0.5, 0.5, 'AUROC SCORE IS 0.56')"
      ]
     },
     "execution_count": 49,
     "metadata": {},
     "output_type": "execute_result"
    },
    {
     "data": {
      "image/png": "[encoded data removed]",
      "text/plain": [
       "<Figure size 640x480 with 1 Axes>"
      ]
     },
     "metadata": {},
     "output_type": "display_data"
    }
   ],
   "source": [
    "plt.plot(fpr, tpr , color='r')\n",
    "plt.xlabel(\"fpr\")\n",
    "plt.ylabel(\"tpr\")\n",
    "plt.title(\"AUROC CURVE\")\n",
    "plt.grid()\n",
    "plt.text(x=0.5 , y =0.5 , s=\"AUROC SCORE IS 0.56\")"
   ]
  },
  {
   "cell_type": "code",
   "execution_count": 50,
   "id": "6ab4efb9",
   "metadata": {},
   "outputs": [],
   "source": [
    "from sklearn.tree import DecisionTreeClassifier"
   ]
  },
  {
   "cell_type": "code",
   "execution_count": 51,
   "id": "c6278940",
   "metadata": {},
   "outputs": [],
   "source": [
    "dt_bp= DecisionTreeClassifier()"
   ]
  },
  {
   "cell_type": "code",
   "execution_count": 52,
   "id": "06aeaa72",
   "metadata": {},
   "outputs": [
    {
     "data": {
      "text/html": [
       "<style>#sk-container-id-2 {color: black;background-color: white;}#sk-container-id-2 pre{padding: 0;}#sk-container-id-2 div.sk-toggleable {background-color: white;}#sk-container-id-2 label.sk-toggleable__label {cursor: pointer;display: block;width: 100%;margin-bottom: 0;padding: 0.3em;box-sizing: border-box;text-align: center;}#sk-container-id-2 label.sk-toggleable__label-arrow:before {content: \"▸\";float: left;margin-right: 0.25em;color: #696969;}#sk-container-id-2 label.sk-toggleable__label-arrow:hover:before {color: black;}#sk-container-id-2 div.sk-estimator:hover label.sk-toggleable__label-arrow:before {color: black;}#sk-container-id-2 div.sk-toggleable__content {max-height: 0;max-width: 0;overflow: hidden;text-align: left;background-color: #f0f8ff;}#sk-container-id-2 div.sk-toggleable__content pre {margin: 0.2em;color: black;border-radius: 0.25em;background-color: #f0f8ff;}#sk-container-id-2 input.sk-toggleable__control:checked~div.sk-toggleable__content {max-height: 200px;max-width: 100%;overflow: auto;}#sk-container-id-2 input.sk-toggleable__control:checked~label.sk-toggleable__label-arrow:before {content: \"▾\";}#sk-container-id-2 div.sk-estimator input.sk-toggleable__control:checked~label.sk-toggleable__label {background-color: #d4ebff;}#sk-container-id-2 div.sk-label input.sk-toggleable__control:checked~label.sk-toggleable__label {background-color: #d4ebff;}#sk-container-id-2 input.sk-hidden--visually {border: 0;clip: rect(1px 1px 1px 1px);clip: rect(1px, 1px, 1px, 1px);height: 1px;margin: -1px;overflow: hidden;padding: 0;position: absolute;width: 1px;}#sk-container-id-2 div.sk-estimator {font-family: monospace;background-color: #f0f8ff;border: 1px dotted black;border-radius: 0.25em;box-sizing: border-box;margin-bottom: 0.5em;}#sk-container-id-2 div.sk-estimator:hover {background-color: #d4ebff;}#sk-container-id-2 div.sk-parallel-item::after {content: \"\";width: 100%;border-bottom: 1px solid gray;flex-grow: 1;}#sk-container-id-2 div.sk-label:hover label.sk-toggleable__label {background-color: #d4ebff;}#sk-container-id-2 div.sk-serial::before {content: \"\";position: absolute;border-left: 1px solid gray;box-sizing: border-box;top: 0;bottom: 0;left: 50%;z-index: 0;}#sk-container-id-2 div.sk-serial {display: flex;flex-direction: column;align-items: center;background-color: white;padding-right: 0.2em;padding-left: 0.2em;position: relative;}#sk-container-id-2 div.sk-item {position: relative;z-index: 1;}#sk-container-id-2 div.sk-parallel {display: flex;align-items: stretch;justify-content: center;background-color: white;position: relative;}#sk-container-id-2 div.sk-item::before, #sk-container-id-2 div.sk-parallel-item::before {content: \"\";position: absolute;border-left: 1px solid gray;box-sizing: border-box;top: 0;bottom: 0;left: 50%;z-index: -1;}#sk-container-id-2 div.sk-parallel-item {display: flex;flex-direction: column;z-index: 1;position: relative;background-color: white;}#sk-container-id-2 div.sk-parallel-item:first-child::after {align-self: flex-end;width: 50%;}#sk-container-id-2 div.sk-parallel-item:last-child::after {align-self: flex-start;width: 50%;}#sk-container-id-2 div.sk-parallel-item:only-child::after {width: 0;}#sk-container-id-2 div.sk-dashed-wrapped {border: 1px dashed gray;margin: 0 0.4em 0.5em 0.4em;box-sizing: border-box;padding-bottom: 0.4em;background-color: white;}#sk-container-id-2 div.sk-label label {font-family: monospace;font-weight: bold;display: inline-block;line-height: 1.2em;}#sk-container-id-2 div.sk-label-container {text-align: center;}#sk-container-id-2 div.sk-container {/* jupyter's `normalize.less` sets `[hidden] { display: none; }` but bootstrap.min.css set `[hidden] { display: none !important; }` so we also need the `!important` here to be able to override the default hidden behavior on the sphinx rendered scikit-learn.org. See: https://github.com/scikit-learn/scikit-learn/issues/21755 */display: inline-block !important;position: relative;}#sk-container-id-2 div.sk-text-repr-fallback {display: none;}</style><div id=\"sk-container-id-2\" class=\"sk-top-container\"><div class=\"sk-text-repr-fallback\"><pre>DecisionTreeClassifier()</pre><b>In a Jupyter environment, please rerun this cell to show the HTML representation or trust the notebook. <br />On GitHub, the HTML representation is unable to render, please try loading this page with nbviewer.org.</b></div><div class=\"sk-container\" hidden><div class=\"sk-item\"><div class=\"sk-estimator sk-toggleable\"><input class=\"sk-toggleable__control sk-hidden--visually\" id=\"sk-estimator-id-2\" type=\"checkbox\" checked><label for=\"sk-estimator-id-2\" class=\"sk-toggleable__label sk-toggleable__label-arrow\">DecisionTreeClassifier</label><div class=\"sk-toggleable__content\"><pre>DecisionTreeClassifier()</pre></div></div></div></div></div>"
      ],
      "text/plain": [
       "DecisionTreeClassifier()"
      ]
     },
     "execution_count": 52,
     "metadata": {},
     "output_type": "execute_result"
    }
   ],
   "source": [
    "dt_bp.fit(df_train_x , df_train_y)"
   ]
  },
  {
   "cell_type": "code",
   "execution_count": 53,
   "id": "e1a9b821",
   "metadata": {},
   "outputs": [
    {
     "data": {
      "text/plain": [
       "array([0, 0, 1, 0, 0, 0, 0, 0, 0, 0, 1, 0, 1, 0, 0, 0, 0, 1, 0, 0, 0, 0,\n",
       "       1, 0, 0, 0, 0, 1, 1, 1, 1, 1, 0, 1, 0, 0, 1, 0, 1, 0, 1, 1, 1, 1,\n",
       "       0, 0, 1, 1, 1, 1, 0, 0, 0, 0, 0, 1, 1, 0, 0, 1, 0, 1, 1, 1, 1, 0,\n",
       "       0, 0, 1, 1, 0, 1, 1, 1, 1, 1, 0, 1, 0, 0, 0, 1, 0, 1, 0, 0, 0, 1,\n",
       "       1, 0, 1, 1, 1, 0, 0, 1, 1, 1, 0, 0, 1, 0, 0, 1, 0, 1, 0, 1, 0, 0,\n",
       "       0, 0, 0, 0, 1, 1, 0, 0, 0, 0, 1, 0, 1, 1, 0, 0, 1, 1, 0, 1, 1, 0,\n",
       "       1, 0, 1, 1, 1, 1, 0, 1, 0, 1, 0, 1, 0, 1, 1, 0, 0, 1, 1, 1, 0, 1,\n",
       "       1, 1, 0, 1, 0, 0, 1, 0, 0, 0, 0, 1, 0, 0, 1, 1, 1, 1, 0, 1, 0, 0,\n",
       "       1, 1, 1, 0, 0, 0, 1, 1, 1, 1, 1, 1, 0, 1, 0, 1, 0, 1, 1, 1, 1, 1,\n",
       "       0, 0, 0, 0, 0, 1, 1, 0, 0, 0, 0, 0, 1, 1, 1, 1, 0, 1, 0, 1, 0, 1,\n",
       "       0, 0, 0, 1, 0, 0, 0, 1, 1, 1, 0, 0, 0, 0, 0, 0, 1, 1, 1, 1, 0, 0,\n",
       "       1, 1, 0, 1, 1, 0, 0, 1, 0, 1, 0, 1, 0, 0, 1, 1, 0, 0, 1, 1, 1, 1,\n",
       "       1, 1, 1, 1, 0, 1, 0, 1, 0, 1, 1, 1, 1, 0, 0, 0, 1, 1, 0, 1, 0, 1,\n",
       "       1, 1, 1, 1, 0, 1, 1, 1, 0, 1, 1, 1, 1, 0, 1, 0, 0, 0, 1, 1, 1, 1,\n",
       "       1, 1, 1, 0, 1, 1, 0, 0, 1, 0, 0, 1, 0, 0, 0, 0, 0, 1, 1, 1, 0, 1,\n",
       "       0, 0, 0, 0, 0, 1, 1, 1, 0, 1, 1, 1, 0, 1, 0, 1, 1, 1, 0, 0, 0, 1,\n",
       "       0, 0, 0, 1, 0, 1, 1, 1, 0, 1, 0, 1, 1, 0, 1, 0, 1, 0, 1, 0, 0, 0,\n",
       "       0, 0, 0, 1, 0, 0, 1, 1, 1, 1, 1, 1, 1, 1, 1, 0, 1, 0, 0, 1, 1, 1,\n",
       "       1, 1, 1, 1], dtype=int64)"
      ]
     },
     "execution_count": 53,
     "metadata": {},
     "output_type": "execute_result"
    }
   ],
   "source": [
    "pred_bp1= dt_bp.predict(df_test_x)\n",
    "pred_bp1\n"
   ]
  },
  {
   "cell_type": "code",
   "execution_count": 54,
   "id": "825b826a",
   "metadata": {},
   "outputs": [
    {
     "data": {
      "text/plain": [
       "array([[158,  31],\n",
       "       [ 33, 178]], dtype=int64)"
      ]
     },
     "execution_count": 54,
     "metadata": {},
     "output_type": "execute_result"
    }
   ],
   "source": [
    "bp_tab1 = confusion_matrix(df_test_y , pred_bp1)\n",
    "bp_tab1"
   ]
  },
  {
   "cell_type": "code",
   "execution_count": 55,
   "id": "034528ba",
   "metadata": {},
   "outputs": [
    {
     "data": {
      "text/plain": [
       "84.0"
      ]
     },
     "execution_count": 55,
     "metadata": {},
     "output_type": "execute_result"
    }
   ],
   "source": [
    "accuracy_score(df_test_y , pred_bp1)*100"
   ]
  },
  {
   "cell_type": "code",
   "execution_count": 56,
   "id": "46e56dcc",
   "metadata": {},
   "outputs": [
    {
     "data": {
      "text/plain": [
       "84.36018957345972"
      ]
     },
     "execution_count": 56,
     "metadata": {},
     "output_type": "execute_result"
    }
   ],
   "source": [
    "recall_score(df_test_y , pred_bp1)*100"
   ]
  },
  {
   "cell_type": "code",
   "execution_count": 57,
   "id": "50d7d395",
   "metadata": {},
   "outputs": [
    {
     "data": {
      "text/plain": [
       "0.8516746411483254"
      ]
     },
     "execution_count": 57,
     "metadata": {},
     "output_type": "execute_result"
    }
   ],
   "source": [
    "precision_score(df_test_y , pred_bp1)"
   ]
  },
  {
   "cell_type": "code",
   "execution_count": 58,
   "id": "4afd9ee3",
   "metadata": {},
   "outputs": [
    {
     "data": {
      "text/plain": [
       "0.8476190476190476"
      ]
     },
     "execution_count": 58,
     "metadata": {},
     "output_type": "execute_result"
    }
   ],
   "source": [
    "f1_score(df_test_y , pred_bp1)"
   ]
  },
  {
   "cell_type": "code",
   "execution_count": 59,
   "id": "d9f85d39",
   "metadata": {},
   "outputs": [
    {
     "data": {
      "text/plain": [
       "0.8397903658567166"
      ]
     },
     "execution_count": 59,
     "metadata": {},
     "output_type": "execute_result"
    }
   ],
   "source": [
    "roc_auc_score(df_test_y , pred_bp1)"
   ]
  },
  {
   "cell_type": "code",
   "execution_count": 60,
   "id": "bdaf748e",
   "metadata": {},
   "outputs": [
    {
     "data": {
      "text/plain": [
       "array([[1., 0.],\n",
       "       [1., 0.],\n",
       "       [0., 1.],\n",
       "       [1., 0.],\n",
       "       [1., 0.],\n",
       "       [1., 0.],\n",
       "       [1., 0.],\n",
       "       [1., 0.],\n",
       "       [1., 0.],\n",
       "       [1., 0.],\n",
       "       [0., 1.],\n",
       "       [1., 0.],\n",
       "       [0., 1.],\n",
       "       [1., 0.],\n",
       "       [1., 0.],\n",
       "       [1., 0.],\n",
       "       [1., 0.],\n",
       "       [0., 1.],\n",
       "       [1., 0.],\n",
       "       [1., 0.],\n",
       "       [1., 0.],\n",
       "       [1., 0.],\n",
       "       [0., 1.],\n",
       "       [1., 0.],\n",
       "       [1., 0.],\n",
       "       [1., 0.],\n",
       "       [1., 0.],\n",
       "       [0., 1.],\n",
       "       [0., 1.],\n",
       "       [0., 1.],\n",
       "       [0., 1.],\n",
       "       [0., 1.],\n",
       "       [1., 0.],\n",
       "       [0., 1.],\n",
       "       [1., 0.],\n",
       "       [1., 0.],\n",
       "       [0., 1.],\n",
       "       [1., 0.],\n",
       "       [0., 1.],\n",
       "       [1., 0.],\n",
       "       [0., 1.],\n",
       "       [0., 1.],\n",
       "       [0., 1.],\n",
       "       [0., 1.],\n",
       "       [1., 0.],\n",
       "       [1., 0.],\n",
       "       [0., 1.],\n",
       "       [0., 1.],\n",
       "       [0., 1.],\n",
       "       [0., 1.],\n",
       "       [1., 0.],\n",
       "       [1., 0.],\n",
       "       [1., 0.],\n",
       "       [1., 0.],\n",
       "       [1., 0.],\n",
       "       [0., 1.],\n",
       "       [0., 1.],\n",
       "       [1., 0.],\n",
       "       [1., 0.],\n",
       "       [0., 1.],\n",
       "       [1., 0.],\n",
       "       [0., 1.],\n",
       "       [0., 1.],\n",
       "       [0., 1.],\n",
       "       [0., 1.],\n",
       "       [1., 0.],\n",
       "       [1., 0.],\n",
       "       [1., 0.],\n",
       "       [0., 1.],\n",
       "       [0., 1.],\n",
       "       [1., 0.],\n",
       "       [0., 1.],\n",
       "       [0., 1.],\n",
       "       [0., 1.],\n",
       "       [0., 1.],\n",
       "       [0., 1.],\n",
       "       [1., 0.],\n",
       "       [0., 1.],\n",
       "       [1., 0.],\n",
       "       [1., 0.],\n",
       "       [1., 0.],\n",
       "       [0., 1.],\n",
       "       [1., 0.],\n",
       "       [0., 1.],\n",
       "       [1., 0.],\n",
       "       [1., 0.],\n",
       "       [1., 0.],\n",
       "       [0., 1.],\n",
       "       [0., 1.],\n",
       "       [1., 0.],\n",
       "       [0., 1.],\n",
       "       [0., 1.],\n",
       "       [0., 1.],\n",
       "       [1., 0.],\n",
       "       [1., 0.],\n",
       "       [0., 1.],\n",
       "       [0., 1.],\n",
       "       [0., 1.],\n",
       "       [1., 0.],\n",
       "       [1., 0.],\n",
       "       [0., 1.],\n",
       "       [1., 0.],\n",
       "       [1., 0.],\n",
       "       [0., 1.],\n",
       "       [1., 0.],\n",
       "       [0., 1.],\n",
       "       [1., 0.],\n",
       "       [0., 1.],\n",
       "       [1., 0.],\n",
       "       [1., 0.],\n",
       "       [1., 0.],\n",
       "       [1., 0.],\n",
       "       [1., 0.],\n",
       "       [1., 0.],\n",
       "       [0., 1.],\n",
       "       [0., 1.],\n",
       "       [1., 0.],\n",
       "       [1., 0.],\n",
       "       [1., 0.],\n",
       "       [1., 0.],\n",
       "       [0., 1.],\n",
       "       [1., 0.],\n",
       "       [0., 1.],\n",
       "       [0., 1.],\n",
       "       [1., 0.],\n",
       "       [1., 0.],\n",
       "       [0., 1.],\n",
       "       [0., 1.],\n",
       "       [1., 0.],\n",
       "       [0., 1.],\n",
       "       [0., 1.],\n",
       "       [1., 0.],\n",
       "       [0., 1.],\n",
       "       [1., 0.],\n",
       "       [0., 1.],\n",
       "       [0., 1.],\n",
       "       [0., 1.],\n",
       "       [0., 1.],\n",
       "       [1., 0.],\n",
       "       [0., 1.],\n",
       "       [1., 0.],\n",
       "       [0., 1.],\n",
       "       [1., 0.],\n",
       "       [0., 1.],\n",
       "       [1., 0.],\n",
       "       [0., 1.],\n",
       "       [0., 1.],\n",
       "       [1., 0.],\n",
       "       [1., 0.],\n",
       "       [0., 1.],\n",
       "       [0., 1.],\n",
       "       [0., 1.],\n",
       "       [1., 0.],\n",
       "       [0., 1.],\n",
       "       [0., 1.],\n",
       "       [0., 1.],\n",
       "       [1., 0.],\n",
       "       [0., 1.],\n",
       "       [1., 0.],\n",
       "       [1., 0.],\n",
       "       [0., 1.],\n",
       "       [1., 0.],\n",
       "       [1., 0.],\n",
       "       [1., 0.],\n",
       "       [1., 0.],\n",
       "       [0., 1.],\n",
       "       [1., 0.],\n",
       "       [1., 0.],\n",
       "       [0., 1.],\n",
       "       [0., 1.],\n",
       "       [0., 1.],\n",
       "       [0., 1.],\n",
       "       [1., 0.],\n",
       "       [0., 1.],\n",
       "       [1., 0.],\n",
       "       [1., 0.],\n",
       "       [0., 1.],\n",
       "       [0., 1.],\n",
       "       [0., 1.],\n",
       "       [1., 0.],\n",
       "       [1., 0.],\n",
       "       [1., 0.],\n",
       "       [0., 1.],\n",
       "       [0., 1.],\n",
       "       [0., 1.],\n",
       "       [0., 1.],\n",
       "       [0., 1.],\n",
       "       [0., 1.],\n",
       "       [1., 0.],\n",
       "       [0., 1.],\n",
       "       [1., 0.],\n",
       "       [0., 1.],\n",
       "       [1., 0.],\n",
       "       [0., 1.],\n",
       "       [0., 1.],\n",
       "       [0., 1.],\n",
       "       [0., 1.],\n",
       "       [0., 1.],\n",
       "       [1., 0.],\n",
       "       [1., 0.],\n",
       "       [1., 0.],\n",
       "       [1., 0.],\n",
       "       [1., 0.],\n",
       "       [0., 1.],\n",
       "       [0., 1.],\n",
       "       [1., 0.],\n",
       "       [1., 0.],\n",
       "       [1., 0.],\n",
       "       [1., 0.],\n",
       "       [1., 0.],\n",
       "       [0., 1.],\n",
       "       [0., 1.],\n",
       "       [0., 1.],\n",
       "       [0., 1.],\n",
       "       [1., 0.],\n",
       "       [0., 1.],\n",
       "       [1., 0.],\n",
       "       [0., 1.],\n",
       "       [1., 0.],\n",
       "       [0., 1.],\n",
       "       [1., 0.],\n",
       "       [1., 0.],\n",
       "       [1., 0.],\n",
       "       [0., 1.],\n",
       "       [1., 0.],\n",
       "       [1., 0.],\n",
       "       [1., 0.],\n",
       "       [0., 1.],\n",
       "       [0., 1.],\n",
       "       [0., 1.],\n",
       "       [1., 0.],\n",
       "       [1., 0.],\n",
       "       [1., 0.],\n",
       "       [1., 0.],\n",
       "       [1., 0.],\n",
       "       [1., 0.],\n",
       "       [0., 1.],\n",
       "       [0., 1.],\n",
       "       [0., 1.],\n",
       "       [0., 1.],\n",
       "       [1., 0.],\n",
       "       [1., 0.],\n",
       "       [0., 1.],\n",
       "       [0., 1.],\n",
       "       [1., 0.],\n",
       "       [0., 1.],\n",
       "       [0., 1.],\n",
       "       [1., 0.],\n",
       "       [1., 0.],\n",
       "       [0., 1.],\n",
       "       [1., 0.],\n",
       "       [0., 1.],\n",
       "       [1., 0.],\n",
       "       [0., 1.],\n",
       "       [1., 0.],\n",
       "       [1., 0.],\n",
       "       [0., 1.],\n",
       "       [0., 1.],\n",
       "       [1., 0.],\n",
       "       [1., 0.],\n",
       "       [0., 1.],\n",
       "       [0., 1.],\n",
       "       [0., 1.],\n",
       "       [0., 1.],\n",
       "       [0., 1.],\n",
       "       [0., 1.],\n",
       "       [0., 1.],\n",
       "       [0., 1.],\n",
       "       [1., 0.],\n",
       "       [0., 1.],\n",
       "       [1., 0.],\n",
       "       [0., 1.],\n",
       "       [1., 0.],\n",
       "       [0., 1.],\n",
       "       [0., 1.],\n",
       "       [0., 1.],\n",
       "       [0., 1.],\n",
       "       [1., 0.],\n",
       "       [1., 0.],\n",
       "       [1., 0.],\n",
       "       [0., 1.],\n",
       "       [0., 1.],\n",
       "       [1., 0.],\n",
       "       [0., 1.],\n",
       "       [1., 0.],\n",
       "       [0., 1.],\n",
       "       [0., 1.],\n",
       "       [0., 1.],\n",
       "       [0., 1.],\n",
       "       [0., 1.],\n",
       "       [1., 0.],\n",
       "       [0., 1.],\n",
       "       [0., 1.],\n",
       "       [0., 1.],\n",
       "       [1., 0.],\n",
       "       [0., 1.],\n",
       "       [0., 1.],\n",
       "       [0., 1.],\n",
       "       [0., 1.],\n",
       "       [1., 0.],\n",
       "       [0., 1.],\n",
       "       [1., 0.],\n",
       "       [1., 0.],\n",
       "       [1., 0.],\n",
       "       [0., 1.],\n",
       "       [0., 1.],\n",
       "       [0., 1.],\n",
       "       [0., 1.],\n",
       "       [0., 1.],\n",
       "       [0., 1.],\n",
       "       [0., 1.],\n",
       "       [1., 0.],\n",
       "       [0., 1.],\n",
       "       [0., 1.],\n",
       "       [1., 0.],\n",
       "       [1., 0.],\n",
       "       [0., 1.],\n",
       "       [1., 0.],\n",
       "       [1., 0.],\n",
       "       [0., 1.],\n",
       "       [1., 0.],\n",
       "       [1., 0.],\n",
       "       [1., 0.],\n",
       "       [1., 0.],\n",
       "       [1., 0.],\n",
       "       [0., 1.],\n",
       "       [0., 1.],\n",
       "       [0., 1.],\n",
       "       [1., 0.],\n",
       "       [0., 1.],\n",
       "       [1., 0.],\n",
       "       [1., 0.],\n",
       "       [1., 0.],\n",
       "       [1., 0.],\n",
       "       [1., 0.],\n",
       "       [0., 1.],\n",
       "       [0., 1.],\n",
       "       [0., 1.],\n",
       "       [1., 0.],\n",
       "       [0., 1.],\n",
       "       [0., 1.],\n",
       "       [0., 1.],\n",
       "       [1., 0.],\n",
       "       [0., 1.],\n",
       "       [1., 0.],\n",
       "       [0., 1.],\n",
       "       [0., 1.],\n",
       "       [0., 1.],\n",
       "       [1., 0.],\n",
       "       [1., 0.],\n",
       "       [1., 0.],\n",
       "       [0., 1.],\n",
       "       [1., 0.],\n",
       "       [1., 0.],\n",
       "       [1., 0.],\n",
       "       [0., 1.],\n",
       "       [1., 0.],\n",
       "       [0., 1.],\n",
       "       [0., 1.],\n",
       "       [0., 1.],\n",
       "       [1., 0.],\n",
       "       [0., 1.],\n",
       "       [1., 0.],\n",
       "       [0., 1.],\n",
       "       [0., 1.],\n",
       "       [1., 0.],\n",
       "       [0., 1.],\n",
       "       [1., 0.],\n",
       "       [0., 1.],\n",
       "       [1., 0.],\n",
       "       [0., 1.],\n",
       "       [1., 0.],\n",
       "       [1., 0.],\n",
       "       [1., 0.],\n",
       "       [1., 0.],\n",
       "       [1., 0.],\n",
       "       [1., 0.],\n",
       "       [0., 1.],\n",
       "       [1., 0.],\n",
       "       [1., 0.],\n",
       "       [0., 1.],\n",
       "       [0., 1.],\n",
       "       [0., 1.],\n",
       "       [0., 1.],\n",
       "       [0., 1.],\n",
       "       [0., 1.],\n",
       "       [0., 1.],\n",
       "       [0., 1.],\n",
       "       [0., 1.],\n",
       "       [1., 0.],\n",
       "       [0., 1.],\n",
       "       [1., 0.],\n",
       "       [1., 0.],\n",
       "       [0., 1.],\n",
       "       [0., 1.],\n",
       "       [0., 1.],\n",
       "       [0., 1.],\n",
       "       [0., 1.],\n",
       "       [0., 1.],\n",
       "       [0., 1.]])"
      ]
     },
     "execution_count": 60,
     "metadata": {},
     "output_type": "execute_result"
    }
   ],
   "source": [
    "pred_prob_dt = dt_bp.predict_proba(df_test_x)\n",
    "pred_prob_dt"
   ]
  },
  {
   "cell_type": "code",
   "execution_count": 62,
   "id": "367b788a",
   "metadata": {},
   "outputs": [],
   "source": [
    "fpr ,tpr , ther = roc_curve(df_test_y ,pred_prob_dt[: , 1])"
   ]
  },
  {
   "cell_type": "code",
   "execution_count": 63,
   "id": "23108c59",
   "metadata": {},
   "outputs": [
    {
     "data": {
      "text/plain": [
       "Text(0.5, 0.5, 'AUROC SCORE IS 0.82')"
      ]
     },
     "execution_count": 63,
     "metadata": {},
     "output_type": "execute_result"
    },
    {
     "data": {
      "image/png": "[encoded data removed]",
      "text/plain": [
       "<Figure size 640x480 with 1 Axes>"
      ]
     },
     "metadata": {},
     "output_type": "display_data"
    }
   ],
   "source": [
    "plt.plot(fpr, tpr , color='r')\n",
    "plt.xlabel(\"fpr\")\n",
    "plt.ylabel(\"tpr\")\n",
    "plt.title(\"AUROC CURVE\")\n",
    "plt.grid()\n",
    "plt.text(x=0.5 , y =0.5 , s=\"AUROC SCORE IS 0.82\")"
   ]
  },
  {
   "cell_type": "code",
   "execution_count": 64,
   "id": "feea27ab",
   "metadata": {},
   "outputs": [],
   "source": [
    "from xgboost import XGBClassifier"
   ]
  },
  {
   "cell_type": "code",
   "execution_count": 65,
   "id": "437ae856",
   "metadata": {},
   "outputs": [],
   "source": [
    "df_xgb = XGBClassifier()"
   ]
  },
  {
   "cell_type": "code",
   "execution_count": 66,
   "id": "529fa2d7",
   "metadata": {},
   "outputs": [
    {
     "data": {
      "text/html": [
       "<style>#sk-container-id-3 {color: black;background-color: white;}#sk-container-id-3 pre{padding: 0;}#sk-container-id-3 div.sk-toggleable {background-color: white;}#sk-container-id-3 label.sk-toggleable__label {cursor: pointer;display: block;width: 100%;margin-bottom: 0;padding: 0.3em;box-sizing: border-box;text-align: center;}#sk-container-id-3 label.sk-toggleable__label-arrow:before {content: \"▸\";float: left;margin-right: 0.25em;color: #696969;}#sk-container-id-3 label.sk-toggleable__label-arrow:hover:before {color: black;}#sk-container-id-3 div.sk-estimator:hover label.sk-toggleable__label-arrow:before {color: black;}#sk-container-id-3 div.sk-toggleable__content {max-height: 0;max-width: 0;overflow: hidden;text-align: left;background-color: #f0f8ff;}#sk-container-id-3 div.sk-toggleable__content pre {margin: 0.2em;color: black;border-radius: 0.25em;background-color: #f0f8ff;}#sk-container-id-3 input.sk-toggleable__control:checked~div.sk-toggleable__content {max-height: 200px;max-width: 100%;overflow: auto;}#sk-container-id-3 input.sk-toggleable__control:checked~label.sk-toggleable__label-arrow:before {content: \"▾\";}#sk-container-id-3 div.sk-estimator input.sk-toggleable__control:checked~label.sk-toggleable__label {background-color: #d4ebff;}#sk-container-id-3 div.sk-label input.sk-toggleable__control:checked~label.sk-toggleable__label {background-color: #d4ebff;}#sk-container-id-3 input.sk-hidden--visually {border: 0;clip: rect(1px 1px 1px 1px);clip: rect(1px, 1px, 1px, 1px);height: 1px;margin: -1px;overflow: hidden;padding: 0;position: absolute;width: 1px;}#sk-container-id-3 div.sk-estimator {font-family: monospace;background-color: #f0f8ff;border: 1px dotted black;border-radius: 0.25em;box-sizing: border-box;margin-bottom: 0.5em;}#sk-container-id-3 div.sk-estimator:hover {background-color: #d4ebff;}#sk-container-id-3 div.sk-parallel-item::after {content: \"\";width: 100%;border-bottom: 1px solid gray;flex-grow: 1;}#sk-container-id-3 div.sk-label:hover label.sk-toggleable__label {background-color: #d4ebff;}#sk-container-id-3 div.sk-serial::before {content: \"\";position: absolute;border-left: 1px solid gray;box-sizing: border-box;top: 0;bottom: 0;left: 50%;z-index: 0;}#sk-container-id-3 div.sk-serial {display: flex;flex-direction: column;align-items: center;background-color: white;padding-right: 0.2em;padding-left: 0.2em;position: relative;}#sk-container-id-3 div.sk-item {position: relative;z-index: 1;}#sk-container-id-3 div.sk-parallel {display: flex;align-items: stretch;justify-content: center;background-color: white;position: relative;}#sk-container-id-3 div.sk-item::before, #sk-container-id-3 div.sk-parallel-item::before {content: \"\";position: absolute;border-left: 1px solid gray;box-sizing: border-box;top: 0;bottom: 0;left: 50%;z-index: -1;}#sk-container-id-3 div.sk-parallel-item {display: flex;flex-direction: column;z-index: 1;position: relative;background-color: white;}#sk-container-id-3 div.sk-parallel-item:first-child::after {align-self: flex-end;width: 50%;}#sk-container-id-3 div.sk-parallel-item:last-child::after {align-self: flex-start;width: 50%;}#sk-container-id-3 div.sk-parallel-item:only-child::after {width: 0;}#sk-container-id-3 div.sk-dashed-wrapped {border: 1px dashed gray;margin: 0 0.4em 0.5em 0.4em;box-sizing: border-box;padding-bottom: 0.4em;background-color: white;}#sk-container-id-3 div.sk-label label {font-family: monospace;font-weight: bold;display: inline-block;line-height: 1.2em;}#sk-container-id-3 div.sk-label-container {text-align: center;}#sk-container-id-3 div.sk-container {/* jupyter's `normalize.less` sets `[hidden] { display: none; }` but bootstrap.min.css set `[hidden] { display: none !important; }` so we also need the `!important` here to be able to override the default hidden behavior on the sphinx rendered scikit-learn.org. See: https://github.com/scikit-learn/scikit-learn/issues/21755 */display: inline-block !important;position: relative;}#sk-container-id-3 div.sk-text-repr-fallback {display: none;}</style><div id=\"sk-container-id-3\" class=\"sk-top-container\"><div class=\"sk-text-repr-fallback\"><pre>XGBClassifier(base_score=None, booster=None, callbacks=None,\n",
       "              colsample_bylevel=None, colsample_bynode=None,\n",
       "              colsample_bytree=None, device=None, early_stopping_rounds=None,\n",
       "              enable_categorical=False, eval_metric=None, feature_types=None,\n",
       "              gamma=None, grow_policy=None, importance_type=None,\n",
       "              interaction_constraints=None, learning_rate=None, max_bin=None,\n",
       "              max_cat_threshold=None, max_cat_to_onehot=None,\n",
       "              max_delta_step=None, max_depth=None, max_leaves=None,\n",
       "              min_child_weight=None, missing=nan, monotone_constraints=None,\n",
       "              multi_strategy=None, n_estimators=None, n_jobs=None,\n",
       "              num_parallel_tree=None, random_state=None, ...)</pre><b>In a Jupyter environment, please rerun this cell to show the HTML representation or trust the notebook. <br />On GitHub, the HTML representation is unable to render, please try loading this page with nbviewer.org.</b></div><div class=\"sk-container\" hidden><div class=\"sk-item\"><div class=\"sk-estimator sk-toggleable\"><input class=\"sk-toggleable__control sk-hidden--visually\" id=\"sk-estimator-id-3\" type=\"checkbox\" checked><label for=\"sk-estimator-id-3\" class=\"sk-toggleable__label sk-toggleable__label-arrow\">XGBClassifier</label><div class=\"sk-toggleable__content\"><pre>XGBClassifier(base_score=None, booster=None, callbacks=None,\n",
       "              colsample_bylevel=None, colsample_bynode=None,\n",
       "              colsample_bytree=None, device=None, early_stopping_rounds=None,\n",
       "              enable_categorical=False, eval_metric=None, feature_types=None,\n",
       "              gamma=None, grow_policy=None, importance_type=None,\n",
       "              interaction_constraints=None, learning_rate=None, max_bin=None,\n",
       "              max_cat_threshold=None, max_cat_to_onehot=None,\n",
       "              max_delta_step=None, max_depth=None, max_leaves=None,\n",
       "              min_child_weight=None, missing=nan, monotone_constraints=None,\n",
       "              multi_strategy=None, n_estimators=None, n_jobs=None,\n",
       "              num_parallel_tree=None, random_state=None, ...)</pre></div></div></div></div></div>"
      ],
      "text/plain": [
       "XGBClassifier(base_score=None, booster=None, callbacks=None,\n",
       "              colsample_bylevel=None, colsample_bynode=None,\n",
       "              colsample_bytree=None, device=None, early_stopping_rounds=None,\n",
       "              enable_categorical=False, eval_metric=None, feature_types=None,\n",
       "              gamma=None, grow_policy=None, importance_type=None,\n",
       "              interaction_constraints=None, learning_rate=None, max_bin=None,\n",
       "              max_cat_threshold=None, max_cat_to_onehot=None,\n",
       "              max_delta_step=None, max_depth=None, max_leaves=None,\n",
       "              min_child_weight=None, missing=nan, monotone_constraints=None,\n",
       "              multi_strategy=None, n_estimators=None, n_jobs=None,\n",
       "              num_parallel_tree=None, random_state=None, ...)"
      ]
     },
     "execution_count": 66,
     "metadata": {},
     "output_type": "execute_result"
    }
   ],
   "source": [
    "df_xgb.fit(df_train_x , df_train_y)"
   ]
  },
  {
   "cell_type": "code",
   "execution_count": 67,
   "id": "d592a05e",
   "metadata": {},
   "outputs": [],
   "source": [
    "pred_xgb = df_xgb.predict(df_test_x)"
   ]
  },
  {
   "cell_type": "code",
   "execution_count": 68,
   "id": "347d805e",
   "metadata": {},
   "outputs": [
    {
     "data": {
      "text/plain": [
       "array([[171,  18],\n",
       "       [ 22, 189]], dtype=int64)"
      ]
     },
     "execution_count": 68,
     "metadata": {},
     "output_type": "execute_result"
    }
   ],
   "source": [
    "tab_xgb = confusion_matrix(df_test_y , pred_xgb)\n",
    "tab_xgb"
   ]
  },
  {
   "cell_type": "code",
   "execution_count": 69,
   "id": "81b41401",
   "metadata": {},
   "outputs": [
    {
     "data": {
      "text/plain": [
       "90.0"
      ]
     },
     "execution_count": 69,
     "metadata": {},
     "output_type": "execute_result"
    }
   ],
   "source": [
    "accuracy_score(df_test_y , pred_xgb)*100"
   ]
  },
  {
   "cell_type": "code",
   "execution_count": 70,
   "id": "7bb61518",
   "metadata": {},
   "outputs": [],
   "source": [
    "from sklearn.metrics import classification_report"
   ]
  },
  {
   "cell_type": "code",
   "execution_count": 71,
   "id": "463d4fa5",
   "metadata": {},
   "outputs": [
    {
     "name": "stdout",
     "output_type": "stream",
     "text": [
      "              precision    recall  f1-score   support\n",
      "\n",
      "           0       0.89      0.90      0.90       189\n",
      "           1       0.91      0.90      0.90       211\n",
      "\n",
      "    accuracy                           0.90       400\n",
      "   macro avg       0.90      0.90      0.90       400\n",
      "weighted avg       0.90      0.90      0.90       400\n",
      "\n"
     ]
    }
   ],
   "source": [
    "report = classification_report(df_test_y, pred_xgb)\n",
    "print(report)"
   ]
  },
  {
   "cell_type": "code",
   "execution_count": null,
   "id": "26dad7d7",
   "metadata": {},
   "outputs": [],
   "source": []
  }
 ],
 "metadata": {
  "kernelspec": {
   "display_name": "Python 3 (ipykernel)",
   "language": "python",
   "name": "python3"
  },
  "language_info": {
   "codemirror_mode": {
    "name": "ipython",
    "version": 3
   },
   "file_extension": ".py",
   "mimetype": "text/x-python",
   "name": "python",
   "nbconvert_exporter": "python",
   "pygments_lexer": "ipython3",
   "version": "3.11.3"
  }
 },
 "nbformat": 4,
 "nbformat_minor": 5
}
